{
 "cells": [
  {
   "cell_type": "markdown",
   "id": "1fdd27a6-7f4e-406e-b62d-27587e8a47b2",
   "metadata": {},
   "source": [
    "# Part 1: Business Case\n",
    "<div style=\"text-align: center\">\n",
    "    <img src=\"crave.jpg\" width=\"200\" alt=\"My picture\">\n",
    "</div>"
   ]
  },
  {
   "cell_type": "markdown",
   "id": "90401306-3368-4d2c-b7c3-b83305d210e4",
   "metadata": {},
   "source": [
    "## Business Context\n",
    "### Business Name and Location\n",
    "- CRAVE Coffee House & Bakery\n",
    "- 66 Princess Street, K7L 1B1, Kingston, ON, Canada\n",
    "\n",
    "### High-Level Description of the Business and Business Model:\n",
    "\n",
    "CRAVE Coffee House& Bakery is a beloved destination located in the downtown of Kingston, Ontario province, known for its commitment to community, comfort, and the craft of coffee beverages and baking since 2016 by TAKAHASHI Fumiya. \n",
    "\n",
    "As being Kingston’s largest privately owned and operated coffee shop, identified as a small-scale business with 11-50 employees. CRAVE operates on a direct to consumer business model with offering a welcoming and cozy environment where locals and visitors alike can savor their moment of relaxation over a cup of premier brewed coffee, tea and various types of freshly-made baked good, to have a chit-chat with their families, friends and collegues. It utilizes locally-sourced ingredients and materials, which not only aligns with the sustainability value but supports the local community. \n",
    "\n",
    "\n",
    "### High-level Description of their Product or Services:\n",
    "CRAVE offers a diverse selection of handcrafted coffee beverages, ranging from iced Americano to signature fruit smoothie, each made with locally-sourced coffee beans and fruits that underpins the shop's dedication to flavor and freshness. Complementing its coffee offerings is a various array of pastries, prepared daily on the premises to ensure fresh taste and quality. Their baked good showcases classical favoriates alongside innovative creations (seasonal launched), catering a wide range of customer segments. Besides the premium bakery, CRAVE also offer versatile menu of breakfast and lunch options, such as Falafel wrap, bagel, sandwiches to name a few.\n",
    "\n"
   ]
  },
  {
   "cell_type": "markdown",
   "id": "59443c74-95f0-443b-b83c-36c948f595e2",
   "metadata": {},
   "source": [
    "<div style=\"text-align: center\">\n",
    "    <img src=\"pic.jpeg\" width=\"380\" alt=\"My picture\">\n",
    "</div>\n",
    "\n",
    "<div style=\"text-align: center\">\n",
    "    <img src=\"12.jpeg\" width=\"380\" alt=\"My picture\">\n",
    "</div>"
   ]
  },
  {
   "cell_type": "markdown",
   "id": "1d8ad8df-9736-418a-8854-d2cebf585747",
   "metadata": {},
   "source": [
    "# Problem Description"
   ]
  },
  {
   "cell_type": "markdown",
   "id": "84280f76-b70f-4d74-b646-977d167f5312",
   "metadata": {},
   "source": [
    "## Issue Identification:\n",
    "CRAVE encountered the complicated challenges of accurately forecasting sales volume, deeply rooted in the dynamic compounded factors such as seasonal variations evolving customer demand, and local events, which intimately impacting the food and beverage industry. The essence of CRAVE’s struggling lies in its inability to predict the intricate and fluctuating patterns of customer demand and lack of appropriate digital model/tool to predict the sales volume within a given period in order to allocate the staffing and ingredients stock. To elaborate, firstly, local events can either results in unexpected spikes in customer flow or sudden time of quiet. Secondly, food and beverage industry are sensitive to rapidly changing customer trends, such as dietary preferences shifts and new emerging food. Without addressing this pressing issue, CRAVE faces a potential decline in market share, profitability, and stakeholder confidence within the Kingston food and beverage market. \n",
    "\n",
    "## Impact Assessment: \n",
    "As a results, CRAVE might face issues with overproduction leading to increased waste. Firstly, without accurate predictions of sales volume, the bakery is often left with excess perishable goods thereby increased the inventory and reduced the net operational profits. Vice versa, if underestimating demand will lead to stockouts, misses sales, and dissatisfied customers who do not purchase their desired items. Besides the waste management layer, inaccurate sales volume predictions also lead to poor workforce management, which directly leading to labor allocation and costs. Overstaffing during slow periods leads to unnecessary labor expenditures, while understanding during peak hours can compromise service quality and customer experience and satisfaction.  \n",
    "\n",
    "Moreover, it is challenging for CRAVE to plan an effective marketing campaigns and strategic business expansions without the reliable forecasts of sales volume. In terms of customer experience, inconsistent product availability during peak hours can tarnish brand’s reputation for freshness and quality, potentially lead to a loss of customer loyalty and undermine the customer retention rate. \n",
    "\n",
    "Last but not least, inefficient energy usage due to uncertain operational hours and poor space utilization during off-peak hours also contribute to the inefficient operation. This problem hinders CRAVE’s potential to maximize sales revenue and undermines its competitive edge within the markets.\n",
    "\n",
    "## Solution:\n",
    "CRAVE can leverage a cutting-edge methodology- AWS's DeepAR Algorithm for predictive sales forecasts to tackle these challenges. With the utilization of the DeepAR algorithm, such as conducing time series This data-driven tool will digest vast historical sales data trends and patterns with regard to time, be it hourly and daily, analyzing and learning from the patterns of past customer interactions. \n",
    "\n",
    "By fine-tuning the model’s parameters through hyperparameter tuning, which enables CRAVE to achieve a panorama of its business cycle, pinpointing with greater accuracy when the demand for their premium coffee and baked goods will peak. This gained insight allows for a more strategic alignment of resources allocation, CRAVE can optimize its inventory levels, aligning production schedules with expected customer demands to minizine waste and avoids stockouts. \n",
    "\n",
    "Besides, precise sales volume predictions also make informed decisions regarding staffing levels, ensures that the bakery is well-equipped to handle busy periods without incurring unnecessary labor costs during slow times. \n",
    "\n",
    "Finally, this solution leads to a more efficient operation, where resource allocation is finely tuned to the consumer behavior patterns, resulting in a healthier bottom line and a better customer experience. \n",
    "\n",
    "Therefore, adopting AWS's DeepAR Algorithm empowers CRAVE to conduct data-driven decisions, boost budget allocation effectiveness, increase profitability, optimize staffing levels, ease the production planning, and further drive sustainable business growth."
   ]
  },
  {
   "cell_type": "markdown",
   "id": "a3b1e615-00c0-44a9-819b-2ee92ee4da0a",
   "metadata": {},
   "source": [
    "# Solution Description"
   ]
  },
  {
   "cell_type": "markdown",
   "id": "c0f26c0b-9142-452f-8e44-ff812172c6f9",
   "metadata": {},
   "source": [
    "## Business Impact and Value:\n",
    "The solution will take place in alliance with an expertise AWS DeepAR data-analytics small group in a number of four professionals, indicates a strategic movement for CRAVE and enables the shop to leverage cutting-edge technology and data-driven tactics to chase operational and inventory efficiency, waste reduction, staffing management systems, and sustainable business growth. \n",
    "\n",
    "The four experts include a machine learning engineer, a data analyst, a business analyst, and a project manager. By partnering with an external expert group to establish this lab, CRAVE can access specialized expertise and resources that may not be available in-house and maximize the potential impact of the predictive analytics initiatives. \n",
    "\n",
    "In the first place, by implementing this solution with gaining predictive insights will enable CRAVE to anticipate daily and seasonal demand with unprecedented accuracy index. This will lead to a more precise stock tracking system that ensure the ingredient are ordered and utilized in an efficient manner, thereby largely eliminating waste and associated costs. \n",
    "\n",
    "Moreover, this solution will be instrumental in streamlining CRAVE’s workforce management. The capability to predict busy hours indicates that CRAVE can allocate the right number of working forces at the right times, which ensures the shop operates at peak efficiency with maximizing service quality and minimizing customer queue times. During the slow hours, this solution will avoid unnecessary labor expenses, and optimize labor costs without compromising the service standards. \n",
    "\n",
    "Furthermore, this external expertise collaboration will also introduce a robust methodology to data management within CRAVE, fostering an innovative corporate culture that incrementally enhances operational processes. By leveraging this agile and adaptive modeling, CRAVE will keep pace with the ever-changing customer preferences and behaviors, making adjustments of operational tactics swiftly. \n",
    "\n",
    "## Customer Experience:\n",
    "The deployment of AWS’s DeepAR Algorithm solution at CRAVE is poised to significantly improve the customer experience for the following reasons. \n",
    "\n",
    "Firstly, this algorithm enables more accurate predictions of sales volumes, which directly impacts the fresh products’ availability and the service efficiency, which considered two pillars central to customer satisfaction rate. To elaborate, with the advanced forecasting of DeepAR, customers are expected to consistent availability of their favorite food and beverages, even during the busy hours and seasonal rushes since inventory levels will be optimized based on the precise demand predictions on each specific items. This solution will reduce the possibilities of sold-out items, especially for those best-sellers, ensuring that every visit to CRAVE shop meets customer’s expectations and demands. \n",
    "\n",
    "Secondly, enhanced staffing efficiency directly links to a more effective queues management and reducing the waiting times and preventing the chaos during the rush-hour that alleviate the customer experience in-store. CRAVE’s servers and baristas will be better engaged with customers by offering customized service and maintaining the welcoming space that CRAVE patrons have come to love. \n",
    "\n",
    "Therefore, the implementation of the AWS DeepAR solution will fine tune operational management such as inventory and staffing, CRAVE not only streamline the internal processes but also delivers a more delightful experience and service to the customers, which potentially fosters customer loyalty and increases the possibility of repeat-visit rate. \n",
    "\n",
    "## Operational Enhancements: \n",
    "The integration of the DeepAR solution will introduce evolutionary operational improvments through the CRAVE Coffee House & Bakery. By leveraging the precise time series sales volume forecasting, CRAVE will be capable to streamline their supply chain management from procurement to production to point-of-sale. \n",
    "\n",
    "Firstly, DeepAR provides CRAVE the key insights on how to match its inventory levels with the actual customer demands in order to optimize inventory. The mismatch reduction between supply and demand enables CRAVE to cut down the excess stock that might expire and avoid stockouts for popular foods. \n",
    "\n",
    "Secondly, this solution will offer predictive insights into customer foot traffic by analyzing the time pattern of purchasing, enables CRAVE to align their staff shift schedules with rush and quite hours, which will boost the human resources deployment, ensures the working staff are neither overworked during peak time nor underutilized during slower time. \n",
    "\n",
    "Thirdly, this improving accuracy in sales volume prediction will directly contribute to CRAVE’s waste reduction. By producing quantities that are aligns with expected sales enables CRAVE to better manage the freshness and quality of their products, leads to a more sustainable operation. \n",
    "\n",
    "Fourthly, a more efficient operational processes will reduce unnecessary operational expenditures, such as inventory cost, labor cost, and waste cost, which leads CRAVE to a more cost-effective operation, improving its overall financial performance and increasing net profitability. \n",
    "\n",
    "Fifthly, a more predictable workflow based on the forecasted demand, every operational process from baking/making coffee to serving can be optimized for efficiency. This will shorten the customer wait time and enhance the overall service rhythm. \n",
    "\n",
    "Finally, CRAVE can response with agility to emerging trends and sudden customer preference changes equipped with data-driven model’s insights, keeping the CRAVE’s competitive-edge against unforeseen challenges within the intense industry. \n"
   ]
  },
  {
   "cell_type": "markdown",
   "id": "62d123a1-1b23-4655-b2df-2a546e44174d",
   "metadata": {},
   "source": [
    "# Proof of Concept Description\n",
    "## •\tCustomer Experience: \n",
    "The POC will leverage time-series analytics, via AWS SageMaker’s DeepAR Algorithm, to revolutionize the customer experience at CRAVE. Customer will witness transformative changes in their interactions with the business. \n",
    "\n",
    "Firstly, CRAVE will curate highly personalized menu selections for individual customers through the application of DeepAR’s predictive capabilities on historical sales and customer preferences. The algorithm will provide CRAVE with the insights for tailored offering recommendations by analyzing purchasing seasonality and patterns, which ensures each customer will receive unique and satisfied experience, and therefore increase customer engagement with the business. \n",
    "\n",
    "Secondly, DeepAR ‘s prediction model for forecasting will guarantee the availability of customers’ favorite choices at all times without the concerning of stockouts, mitigating the risks of disappointment. CRAVE are able to maintain an optimized inventory levels by predicting demand fluctuations and variations within specific timespan, which ensures consistent access to desired baked goods and coffee. \n",
    "\n",
    "Thirdly, CRAVE will proactively engage with customers by communicating upcoming promotion events, and menu additions. CRAVE will foster stronger bond with its clientele by anticipating customer behaviors, leading to increased customer loyalty, engagement and satisfaction. \n",
    "\n",
    "Fourthly, CRAVE will allocate human resources more efficiently during peak and off-peak hours by applying predictive outputs regarding demand patterns. Customer will experience shorter wait times to get their orders with the right number of staffing available, expedited order fulfillment and improved the overall service quality. \n",
    "\n",
    "\n",
    "## Operational Enhancements\n",
    "Besides the enhancing of customer experience, the POC will also drive operational efficiencies and improvements within the CRAVE. \n",
    "\n",
    "Firstly, DeepAR’s precise sales forecasting model within a designated input time period will optimize inventory management practices and minimize excess stock level and therefore reduce wastage and relevant costs. By accurately predicting demand trends with identifying those best-sellers beverages and pastries, CRAVE will streamline the current procurement processes, ensuring optimal inventory levels and minimizes inventory holding costs, which is beneficial for a small-scale business’s sustainable growth. \n",
    "\n",
    "Secondly, leveraging the DeepAR solution’s insights into customer footfall patterns will help CRAVE to optimize staffing allocation decisions. For instance, allocating adequate number of staff during the peak periods and optimizing labor costs during those quitter hours. The alignment between staffing levels with actual demand forecasts will effectively enhances CRAVE’s operational efficiency and productivity and cut the unnecessary labour expenditures. \n",
    "\n",
    "Thirdly, implementation of DeepAR’s time series predictive analytics solution will streamline various operational processes, to name a few, production planning, scheduling, and resource allocation. The automation of data-analysis and decision-making enables CRAVE to accelerate their workflow execution and further enables faster response times and more agile operations when encountering the volatile and variations. \n",
    "\n",
    "Finally, this solution will establish a framework for CRAVE’s continuous internal business improvement, with DeepAR serving as a catalyst for ongoing optimization efforts. By analyzing POC results and iteratively refining predictive models, CRAVE will continuously enhance its operations, adapt to changing market conditions, and maintain a competitive edge in the coffee and bakery industry.\n",
    "\n",
    "\n",
    "## Data Identification for POC\n",
    "### - Data Source and Justification: \n",
    "A dataset named French Bakery Sales has been chosen for this Proof of Concept is ideal for representing the key metrics and variables that influences the problems faced by Crave Coffee House & Bakery. \n",
    "\n",
    "Firstly, the dataset includes columns for both ordering date and exact time, which provides temporal necessary for analyzing sales trends over different time periods, such as in daily, weekly, and monthly; for better gaining insights for peak hours with identifying popular items. \n",
    "\n",
    "Secondly, with columns for unit price and quantities sold, the dataset captures the volume of products dols and their corresponding prices, which is essential for computing total sales revenue and understanding product demand dynamics, furthermore, those two entries are key identifiers in the DeepAR analytics for forecasting sales volume.\n",
    "\n",
    "Thirdly, the ‘article’ column identifies the specific bakery items and beverages sold, which allows for the analysis of product popularity, demand fluctuations, and their impact on overall sales. therefore, CRAVE is able to utilize these gained insights for procurement the inventory. \n",
    "\n",
    "Fourthly, the ticket number column serves as a unique identifier for each transaction, ensuring data integrity and facilitating tracking and analysis of individual sales transactions for conducting consumer’s purchasing behaviors analysis. \n",
    "\n",
    "Finally, total price included in this dataset represents the total sales value per transaction, which considered a crucial information for evaluating CRAVE’s overall revenue generation and financial performance. \n",
    "\n",
    "To sum up, by leveraging this French bakery dataset, CRAVE can conduct in-depth analysis to predict sales volume accurately, identifying seasonal trends, optimize inventory management, and enhance operational efficiency. Besides, it also offers valuable insights into customer preferences and purchasing behavior, which enables CRAVE to launch targeted and tailored marketing strategies and improved customer experiences. \n",
    "\n"
   ]
  },
  {
   "cell_type": "markdown",
   "id": "80586c3e-b275-4da9-9979-4e8ff571dbab",
   "metadata": {},
   "source": [
    "# Business Changes\n",
    "## •\tProcess Modification Plan\n",
    "### 1. Data Collection and Management Improvement:\n",
    "Current State: CRAVE collects bakery sales data inconsistently across different sales channels and lacks a centralized repository.\n",
    "\n",
    "Process Modification Plan: Our AWS DeepAR analytics team will assist CRAVE café shop in streamlining data collection procedures to ensure comprehensive aggregation of historical time-series sales data. This involves integrating sales data from various channels in categorization of invoice number, purchase types, quantity, prices, including online orders, and in-store transactions, into a centralized database. Besides, the team will implement automated data capture mechanisms to ensure real-time data updates and accuracy.\n",
    "\n",
    "### 2.  Employee Training and Development:\n",
    "Current State: CRAVE’s internal staff lacks the necessary technical skills to interpret and take advantage of DeepAR model outputs for sales volume prediction. \n",
    "\n",
    "Process Modification Plan: CRAVE will conduct comprehensive employee training sessions and programs, and workshops across varied activities to enhance the analytics capabilities of its internal team members specifically for predicting sales volume. This includes DeepAR model predictions’ intuition understanding sessions, how to interpret the outputs forecasted sales volumes, and incorporating productive outputs into daily inventory management and staffing and allocation decisions. This change enables sustainability and cost-saving for CRAVE's future decision-making after the termination with the contract of the external team.\n",
    "\n",
    "### 3. Integration with Existing system:\n",
    "Current State: CRAVE allocates human resources and costs and inventory purchasing’s decision-making is primarily based on historical sales data and experience with intuition rather than a systematic time-series sales predictive algorithm. \n",
    "\n",
    "Process Modification Plan: The external DeepAR analytics team will integrate sales volume predictions results generated by time-series algorithm into CRAVE’s decision-making processes. This involves aligning staffing, inventory management, and promotional strategies with anticipated sales volume to optimize the resource allocation and therefore maximize revenue generation. \n",
    "\n",
    "### 4. Workflow Adjustments:\n",
    "Current State:  CRAVE's current workflows may not accommodate iterative model training and updating for sales volume prediction.\n",
    "\n",
    "Process Modification Plan: With the assistance of DeepAR team member, CRAVE will redesign their workflows to incorporate regular model training and updating based on the new sales data and market trends. This comprises establishing a feedback loop between the internal stakeholders and external analytics team members to continuously improve model accuracy and adapt to agile volatile business conditions. \n"
   ]
  },
  {
   "cell_type": "markdown",
   "id": "83c234da-862d-464d-bb41-eb5c42e09aa6",
   "metadata": {},
   "source": [
    "# Development Costs\n",
    "## Fixed Costs\n",
    "### - Labour Costs\n",
    "Development team composition: The team consists of machine learning engineer, data analyst, business analyst, and project manager, in total of four professionals in charge of different functionalities and responsibilities. \n",
    "Hourly rates: (estimated averages:)\n",
    "\n",
    "1.\tMachine Learning engineer: $30/hour\n",
    "2.\tData analyst: $35/hour\n",
    "3.\tBusiness analyst: $25/hour\n",
    "4.\tProject manager: $25/hour\n",
    "\n",
    "Development time: The works will last for 10 days for each professional dedicated 5 hours in a daily basis.\n",
    "#### Calculation: \n",
    "Total hours per professional working: \n",
    "\n",
    "10 days*5 hours/day\n",
    "\n",
    "= 50 hours\n",
    "\n",
    "Total labour cost per professional = Total hours * Hourly rate, breakdown:\n",
    "\n",
    "Machine Learning engineer: $30/hour* 50 hours = $1,500\n",
    "\n",
    "Data analyst: $35/hour* 50 hours = $1,750\n",
    "\n",
    "Business analyst: $25/hour* 50 hours =$ 1,250\n",
    "\n",
    "Project manager: $25/hour* 50 hours = $1,250\n",
    "\n",
    "Overall total labor costs= $1,500+ $1,250*2+$1,750= $5,750\n"
   ]
  },
  {
   "cell_type": "markdown",
   "id": "ef4c5f57-18e9-44c7-8b32-fb033f028841",
   "metadata": {},
   "source": [
    "# Development Timeline"
   ]
  },
  {
   "cell_type": "markdown",
   "id": "06d7f9a9-a559-4ec7-b2f0-5e811ffd01f0",
   "metadata": {},
   "source": [
    "# Part 2: Proof of Concept"
   ]
  },
  {
   "cell_type": "markdown",
   "id": "d92e7147-4dcf-4203-b3eb-aee3e7c8e8b6",
   "metadata": {},
   "source": [
    "# Environment setup and imports"
   ]
  },
  {
   "cell_type": "markdown",
   "id": "ddc52d4a-8099-42fd-ad71-95ce43db1a75",
   "metadata": {},
   "source": [
    "The main focus on this part of codings aims to prepare"
   ]
  },
  {
   "cell_type": "code",
   "execution_count": 2,
   "id": "1c10fed3-f360-4ccd-8115-9c91282ceae6",
   "metadata": {
    "tags": []
   },
   "outputs": [
    {
     "name": "stdout",
     "output_type": "stream",
     "text": [
      "Requirement already satisfied: numexpr in /home/ec2-user/anaconda3/envs/python3/lib/python3.10/site-packages (2.9.0)\n",
      "Collecting numexpr\n",
      "  Downloading numexpr-2.10.0-cp310-cp310-manylinux_2_17_x86_64.manylinux2014_x86_64.whl.metadata (7.9 kB)\n",
      "Requirement already satisfied: numpy>=1.19.3 in /home/ec2-user/anaconda3/envs/python3/lib/python3.10/site-packages (from numexpr) (1.22.4)\n",
      "Downloading numexpr-2.10.0-cp310-cp310-manylinux_2_17_x86_64.manylinux2014_x86_64.whl (376 kB)\n",
      "\u001b[2K   \u001b[90m━━━━━━━━━━━━━━━━━━━━━━━━━━━━━━━━━━━━━━━━\u001b[0m \u001b[32m376.1/376.1 kB\u001b[0m \u001b[31m2.8 MB/s\u001b[0m eta \u001b[36m0:00:00\u001b[0m:00:01\u001b[0m\n",
      "\u001b[?25hInstalling collected packages: numexpr\n",
      "  Attempting uninstall: numexpr\n",
      "    Found existing installation: numexpr 2.9.0\n",
      "    Uninstalling numexpr-2.9.0:\n",
      "      Successfully uninstalled numexpr-2.9.0\n",
      "Successfully installed numexpr-2.10.0\n",
      "sagemaker.config INFO - Not applying SDK defaults from location: /etc/xdg/sagemaker/config.yaml\n",
      "sagemaker.config INFO - Not applying SDK defaults from location: /home/ec2-user/.config/sagemaker/config.yaml\n"
     ]
    },
    {
     "name": "stderr",
     "output_type": "stream",
     "text": [
      "Matplotlib is building the font cache; this may take a moment.\n"
     ]
    }
   ],
   "source": [
    "# Install or upgrade the numexpr package, which is used by pandas for efficient numerical expressions\n",
    "!pip install --upgrade numexpr\n",
    "\n",
    "# Import necessary libraries from SageMaker for model training and deployment\n",
    "import sagemaker\n",
    "from sagemaker import get_execution_role  # Get the IAM role for the SageMaker session\n",
    "from sagemaker.image_uris import retrieve  # Retrieve the Docker image URI for a specific model\n",
    "from sagemaker.estimator import Estimator  # Estimator class for model training\n",
    "\n",
    "# Import boto3 library for interacting with AWS services\n",
    "import boto3\n",
    "from botocore.exceptions import ClientError\n",
    "\n",
    "# Import pandas for data manipulation and analysis\n",
    "import pandas as pd\n",
    "\n",
    "# Import json for working with JSON data\n",
    "import json\n",
    "\n",
    "# Import matplotlib.pyplot for creating visualizations\n",
    "import matplotlib.pyplot as plt\n",
    "\n",
    "# Import seaborn for statistical data visualization\n",
    "import seaborn as sns"
   ]
  },
  {
   "cell_type": "markdown",
   "id": "095a72c6-99d6-4b3b-b828-78ddf6ab2c20",
   "metadata": {},
   "source": [
    "# Data Exploration"
   ]
  },
  {
   "cell_type": "code",
   "execution_count": 3,
   "id": "788feaa9-6a24-45b6-81a7-e0419919863a",
   "metadata": {
    "tags": []
   },
   "outputs": [
    {
     "name": "stdout",
     "output_type": "stream",
     "text": [
      "First few rows of the DataFrame:\n",
      "   Head        date   time  ticket_number               article  Quantity  \\\n",
      "0     0  2021-01-02  08:38       150040.0              BAGUETTE       1.0   \n",
      "1     1  2021-01-02  08:38       150040.0      PAIN AU CHOCOLAT       3.0   \n",
      "2     4  2021-01-02  09:14       150041.0      PAIN AU CHOCOLAT       2.0   \n",
      "3     5  2021-01-02  09:14       150041.0                  PAIN       1.0   \n",
      "4     8  2021-01-02  09:25       150042.0  TRADITIONAL BAGUETTE       5.0   \n",
      "\n",
      "   price  \n",
      "0   0.90  \n",
      "1   1.20  \n",
      "2   1.20  \n",
      "3   1.15  \n",
      "4   1.20  \n"
     ]
    }
   ],
   "source": [
    "# Load the OnlineRetail.csv data into a pandas DataFrame\n",
    "df_bakerysales = pd.read_csv('Bakery sales.csv')\n",
    "\n",
    "# Display the first few rows of the df_onlineretail DataFrame\n",
    "print(\"First few rows of the DataFrame:\")\n",
    "print(df_bakerysales.head())"
   ]
  },
  {
   "cell_type": "code",
   "execution_count": 4,
   "id": "858b9259-a2ee-4aa7-9ae0-406292ba8979",
   "metadata": {
    "tags": []
   },
   "outputs": [
    {
     "name": "stdout",
     "output_type": "stream",
     "text": [
      "\n",
      "Shape of the DataFrame (rows, columns):\n",
      "(234005, 7)\n"
     ]
    }
   ],
   "source": [
    "# Display the number of rows and columns in the df_onlineretail DataFrame\n",
    "print(\"\\nShape of the DataFrame (rows, columns):\")\n",
    "print(df_bakerysales.shape)"
   ]
  },
  {
   "cell_type": "code",
   "execution_count": 5,
   "id": "c8992a02-a15f-45d0-8f67-bc06c363d45d",
   "metadata": {
    "tags": []
   },
   "outputs": [
    {
     "name": "stdout",
     "output_type": "stream",
     "text": [
      "First few rows of the DataFrame:\n",
      "   Head        date   time  Quantity  price\n",
      "0     0  2021-01-02  08:38       1.0   0.90\n",
      "1     1  2021-01-02  08:38       3.0   1.20\n",
      "2     4  2021-01-02  09:14       2.0   1.20\n",
      "3     5  2021-01-02  09:14       1.0   1.15\n",
      "4     8  2021-01-02  09:25       5.0   1.20\n"
     ]
    }
   ],
   "source": [
    "# Drop the specified columns from df_bakerysales\n",
    "columns_to_drop = ['article', 'ticket_number']\n",
    "df_bakerysales.drop(columns=columns_to_drop, inplace=True)\n",
    "\n",
    "# Display the first few rows of the df_bakerysales DataFrame\n",
    "print(\"First few rows of the DataFrame:\")\n",
    "print(df_bakerysales.head())"
   ]
  },
  {
   "cell_type": "code",
   "execution_count": 6,
   "id": "24459858-28af-45b6-a855-1b45fe312a01",
   "metadata": {
    "tags": []
   },
   "outputs": [
    {
     "name": "stdout",
     "output_type": "stream",
     "text": [
      "\n",
      "Summary of the DataFrame:\n",
      "<class 'pandas.core.frame.DataFrame'>\n",
      "RangeIndex: 234005 entries, 0 to 234004\n",
      "Data columns (total 5 columns):\n",
      " #   Column    Non-Null Count   Dtype  \n",
      "---  ------    --------------   -----  \n",
      " 0   Head      234005 non-null  int64  \n",
      " 1   date      234005 non-null  object \n",
      " 2   time      234005 non-null  object \n",
      " 3   Quantity  234005 non-null  float64\n",
      " 4   price     234005 non-null  float64\n",
      "dtypes: float64(2), int64(1), object(2)\n",
      "memory usage: 8.9+ MB\n",
      "None\n"
     ]
    }
   ],
   "source": [
    "# Display a concise summary of the df_bakerysales DataFrame\n",
    "print(\"\\nSummary of the DataFrame:\")\n",
    "print(df_bakerysales.info())"
   ]
  },
  {
   "cell_type": "code",
   "execution_count": 7,
   "id": "db378414-dc2e-4df0-a550-8b9b578f51da",
   "metadata": {
    "tags": []
   },
   "outputs": [
    {
     "name": "stdout",
     "output_type": "stream",
     "text": [
      "\n",
      "Summary of the DataFrame after converting the date column to datetime:\n",
      "<class 'pandas.core.frame.DataFrame'>\n",
      "RangeIndex: 234005 entries, 0 to 234004\n",
      "Data columns (total 5 columns):\n",
      " #   Column    Non-Null Count   Dtype         \n",
      "---  ------    --------------   -----         \n",
      " 0   Head      234005 non-null  int64         \n",
      " 1   date      234005 non-null  datetime64[ns]\n",
      " 2   time      234005 non-null  datetime64[ns]\n",
      " 3   Quantity  234005 non-null  float64       \n",
      " 4   price     234005 non-null  float64       \n",
      "dtypes: datetime64[ns](2), float64(2), int64(1)\n",
      "memory usage: 8.9 MB\n",
      "None\n"
     ]
    }
   ],
   "source": [
    "# Convert the 'date' column to datetime format, adjusting the format to match the actual date strings\n",
    "df_bakerysales['date'] = pd.to_datetime(df_bakerysales['date'], format='%Y-%m-%d')\n",
    "df_bakerysales['time'] = pd.to_datetime(df_bakerysales['time'], format='%H:%M')\n",
    "# Display a concise summary of the df_bakerysales DataFrame to verify the datetime format\n",
    "print(\"\\nSummary of the DataFrame after converting the date column to datetime:\")\n",
    "print(df_bakerysales.info())\n"
   ]
  },
  {
   "cell_type": "code",
   "execution_count": 8,
   "id": "126ecacd-74f9-4e45-accf-eeccf0de29e0",
   "metadata": {
    "tags": []
   },
   "outputs": [
    {
     "name": "stdout",
     "output_type": "stream",
     "text": [
      "\n",
      "Missing values in each column:\n",
      "Head        0\n",
      "date        0\n",
      "time        0\n",
      "Quantity    0\n",
      "price       0\n",
      "dtype: int64\n"
     ]
    }
   ],
   "source": [
    "# Calculate the number of missing values in each column\n",
    "missing_values = df_bakerysales.isnull().sum()\n",
    "\n",
    "# Print the number of missing values for each column\n",
    "print(\"\\nMissing values in each column:\")\n",
    "print(missing_values)"
   ]
  },
  {
   "cell_type": "code",
   "execution_count": 9,
   "id": "ac94905c-ca5b-4d6e-91f4-726c1f566c88",
   "metadata": {
    "tags": []
   },
   "outputs": [
    {
     "name": "stdout",
     "output_type": "stream",
     "text": [
      "\n",
      "There are no negative Prices.\n",
      "\n",
      "Rows with negative Quantities:\n",
      "          Head       date                time  Quantity  price\n",
      "448        898 2021-01-03 1900-01-01 10:41:00      -1.0   0.90\n",
      "1162      2558 2021-01-05 1900-01-01 19:00:00      -1.0   2.40\n",
      "1163      2559 2021-01-05 1900-01-01 19:00:00      -1.0   6.00\n",
      "1164      2560 2021-01-05 1900-01-01 19:00:00      -1.0   2.00\n",
      "1467      3269 2021-01-08 1900-01-01 11:58:00      -1.0   0.15\n",
      "...        ...        ...                 ...       ...    ...\n",
      "233054  509243 2022-09-27 1900-01-01 18:03:00      -2.0   0.15\n",
      "233055  509244 2022-09-27 1900-01-01 18:03:00      -1.0   1.30\n",
      "233056  509245 2022-09-27 1900-01-01 18:03:00      -3.0   1.35\n",
      "233553  510396 2022-09-29 1900-01-01 11:55:00      -1.0   1.50\n",
      "233554  510397 2022-09-29 1900-01-01 11:55:00      -1.0   7.60\n",
      "\n",
      "[1295 rows x 5 columns]\n"
     ]
    }
   ],
   "source": [
    "# Filter out rows with negative prices or quantities\n",
    "negative_prices = df_bakerysales[df_bakerysales['price'] < 0]\n",
    "negative_quantities = df_bakerysales[df_bakerysales['Quantity'] < 0]\n",
    "\n",
    "# Print rows with negative prices\n",
    "if not negative_prices.empty:\n",
    "    print(\"\\nRows with negative Prices:\")\n",
    "    print(negative_prices)\n",
    "else:\n",
    "    print(\"\\nThere are no negative Prices.\")\n",
    "\n",
    "# Print rows with negative quantities\n",
    "if not negative_quantities.empty:\n",
    "    print(\"\\nRows with negative Quantities:\")\n",
    "    print(negative_quantities)\n",
    "else:\n",
    "    print(\"\\nThere are no negative quantities.\")\n"
   ]
  },
  {
   "cell_type": "code",
   "execution_count": 10,
   "id": "3f045730-d6a1-4c53-9a71-166bc44d110c",
   "metadata": {
    "tags": []
   },
   "outputs": [
    {
     "name": "stdout",
     "output_type": "stream",
     "text": [
      "\n",
      "Number of rows removed due to negative prices or quantities: 1295\n"
     ]
    }
   ],
   "source": [
    "# Keep only rows with non-negative prices and quantities\n",
    "df_bakerysales = df_bakerysales[(df_bakerysales['price'] >= 0) & (df_bakerysales['Quantity'] >= 0)]\n",
    "\n",
    "# Print the number of rows removed due to negative prices or quantities\n",
    "print(\"\\nNumber of rows removed due to negative prices or quantities:\", len(negative_prices) + len(negative_quantities))"
   ]
  },
  {
   "cell_type": "code",
   "execution_count": 11,
   "id": "47e61b54-2cfe-423b-adeb-d171c9e7c5f4",
   "metadata": {
    "tags": []
   },
   "outputs": [
    {
     "name": "stdout",
     "output_type": "stream",
     "text": [
      "Daily Sales Data:\n",
      "          date    sales\n",
      "0   2021-01-02   987.85\n",
      "1   2021-01-03  1015.20\n",
      "2   2021-01-04   461.90\n",
      "3   2021-01-05   526.10\n",
      "4   2021-01-07   544.00\n",
      "..         ...      ...\n",
      "595 2022-09-26   695.55\n",
      "596 2022-09-27   769.00\n",
      "597 2022-09-28   610.70\n",
      "598 2022-09-29   698.30\n",
      "599 2022-09-30   795.95\n",
      "\n",
      "[600 rows x 2 columns]\n"
     ]
    }
   ],
   "source": [
    "import matplotlib.pyplot as plt\n",
    "\n",
    "# Data Preparation for DeepAR\n",
    "\n",
    "# Calculate the sales by multiplying the quantity and price for each row\n",
    "df_bakerysales['sales'] = df_bakerysales['Quantity'] * df_bakerysales['price']\n",
    "\n",
    "# Group the DataFrame by the date component of 'InvoiceDate', summing the 'Sales' for each day, and reset the index\n",
    "daily_sales = df_bakerysales.groupby(df_bakerysales['date'].dt.floor('D'))['sales'].sum().reset_index()\n",
    "\n",
    "# Display the daily sales data\n",
    "print(\"Daily Sales Data:\")\n",
    "print(daily_sales)"
   ]
  },
  {
   "cell_type": "code",
   "execution_count": 12,
   "id": "2c453ca4-01d8-42d3-a6c6-4b3f12776df8",
   "metadata": {
    "tags": []
   },
   "outputs": [
    {
     "data": {
      "image/png": "[encoded data removed]",
      "text/plain": [
       "<Figure size 1600x600 with 1 Axes>"
      ]
     },
     "metadata": {},
     "output_type": "display_data"
    }
   ],
   "source": [
    "# Plot the daily sales data with markers for each data point\n",
    "\n",
    "# Create a new figure for the plot with a specified size\n",
    "plt.figure(figsize=(16, 6))\n",
    "\n",
    "# 'date' is on the x-axis, 'sales' is on the y-axis\n",
    "# Marker style is set to 'o' (circle), line color is set to blue, and line style is set to solid\n",
    "plt.plot(daily_sales['date'], daily_sales['sales'], marker='o', color='b', linestyle='-')\n",
    "\n",
    "# Set the title of the plot\n",
    "plt.title('Daily Sales')\n",
    "\n",
    "# Set the label for the x-axis\n",
    "plt.xlabel('date')\n",
    "\n",
    "# Set the label for the y-axis\n",
    "plt.ylabel('sales')\n",
    "\n",
    "# Add gridlines to the plot\n",
    "plt.grid(True)\n",
    "\n",
    "# Display the plot\n",
    "plt.show()"
   ]
  },
  {
   "cell_type": "code",
   "execution_count": 14,
   "id": "43e155ba-b3ff-42b4-a77d-2ffefb0d6bd4",
   "metadata": {
    "tags": []
   },
   "outputs": [
    {
     "data": {
      "image/png": "[encoded data removed]",
      "text/plain": [
       "<Figure size 1600x600 with 1 Axes>"
      ]
     },
     "metadata": {},
     "output_type": "display_data"
    }
   ],
   "source": [
    "# Plot the daily sales data for the last 1 months with markers for each data point\n",
    "\n",
    "# Slice the daily_sales DataFrame to include only the last 1 months' worth of data\n",
    "last_month_sales = daily_sales.tail(30)\n",
    "\n",
    "# Create a new figure for the plot with a specified size\n",
    "plt.figure(figsize=(16, 6))\n",
    "\n",
    "# 'InvoiceDate' is on the x-axis, 'Sales' is on the y-axis\n",
    "# Marker style is set to 'o' (circle), line color is set to blue, and line style is set to solid\n",
    "plt.plot(last_month_sales['date'], last_month_sales['sales'], marker='o', color='b', linestyle='-')\n",
    "\n",
    "# Set the title of the plot\n",
    "plt.title('Daily Sales for the Last Month')\n",
    "\n",
    "# Set the label for the x-axis\n",
    "plt.xlabel('date')\n",
    "\n",
    "# Set the label for the y-axis\n",
    "plt.ylabel('sales')\n",
    "\n",
    "# Add gridlines to the plot\n",
    "plt.grid(True)\n",
    "\n",
    "# Display the plot\n",
    "plt.show()"
   ]
  },
  {
   "cell_type": "markdown",
   "id": "a1a5f7aa-9655-4fba-8bab-3e9bec55f4eb",
   "metadata": {},
   "source": [
    "# Data Preparation for DeepAR Model Training"
   ]
  },
  {
   "cell_type": "code",
   "execution_count": 15,
   "id": "409d8344-dd99-4802-9f0f-5330b3b263d9",
   "metadata": {
    "tags": []
   },
   "outputs": [],
   "source": [
    "# Define a function to convert a pandas Series to a JSON object for DeepAR\n",
    "def series_to_json_obj(series):\n",
    "    \"\"\"\n",
    "    Converts a pandas Series to a JSON object for DeepAR.\n",
    "\n",
    "    Parameters:\n",
    "    series (pandas.Series): The time series data.\n",
    "\n",
    "    Returns:\n",
    "    dict: A JSON object with \"start\" and \"target\" keys.\n",
    "    \"\"\"\n",
    "    # DeepAR expects each time series to be a JSON object with \"start\" and \"target\" keys\n",
    "    return {\"start\": str(series.index[0]), \"target\": list(series)}\n",
    "\n",
    "# Convert the 'InvoiceDate' column to string format for compatibility with DeepAR\n",
    "daily_sales['date'] = daily_sales['date'].dt.strftime('%Y-%m-%d')\n",
    "\n",
    "# Split the daily_sales DataFrame into training and testing data\n",
    "# For example, use the first 80% of the data for training and the remaining 20% for testing\n",
    "split_index = int(len(daily_sales) * 0.8)\n",
    "train_data = daily_sales.iloc[:split_index]\n",
    "test_data = daily_sales.iloc[split_index:]\n",
    "\n",
    "# Convert the training data to JSON format for DeepAR\n",
    "train_series_json = train_data.set_index('date')['sales'].pipe(series_to_json_obj)\n",
    "\n",
    "# Convert the test data to JSON format for DeepAR\n",
    "test_series_json = test_data.set_index('date')['sales'].pipe(series_to_json_obj)\n",
    "\n",
    "# Save the training data JSON object to a file\n",
    "with open('train_data.json', 'w') as f:\n",
    "    json.dump(train_series_json, f)\n",
    "\n",
    "# Save the test data JSON object to a file\n",
    "with open('test_data.json', 'w') as f:\n",
    "    json.dump(test_series_json, f)"
   ]
  },
  {
   "cell_type": "markdown",
   "id": "fafc2b32-b6bd-419c-a41d-991809f0f3f4",
   "metadata": {},
   "source": [
    "# SageMaker Session and Environment Setup"
   ]
  },
  {
   "cell_type": "code",
   "execution_count": 16,
   "id": "a6ba7666-3988-4b94-966d-8225a74264d4",
   "metadata": {
    "tags": []
   },
   "outputs": [
    {
     "name": "stdout",
     "output_type": "stream",
     "text": [
      "Execution Role ARN: arn:aws:iam::392938612004:role/LabRole\n",
      "AWS Region: us-east-1\n",
      "Training Data S3 URI: s3://sagemaker-us-east-1-392938612004/sagemaker/onlineretail/basic-prediction/train_data.json\n",
      "Test Data S3 URI: s3://sagemaker-us-east-1-392938612004/sagemaker/onlineretail/basic-prediction/test_data.json\n"
     ]
    }
   ],
   "source": [
    "# Create a SageMaker session for managing interactions with the SageMaker environment\n",
    "sagemaker_session = sagemaker.Session()\n",
    "\n",
    "# Retrieve the execution role for the current SageMaker notebook instance\n",
    "role = get_execution_role()\n",
    "\n",
    "# Retrieve the AWS region name from the SageMaker session\n",
    "region = sagemaker_session.boto_region_name\n",
    "\n",
    "# Specify the DeepAR container\n",
    "image_uri = retrieve('forecasting-deepar', region)\n",
    "\n",
    "# Define the default Amazon S3 bucket for the SageMaker session\n",
    "bucket = sagemaker_session.default_bucket()\n",
    "\n",
    "# Define the prefix for the S3 key where data will be stored\n",
    "prefix = 'sagemaker/onlineretail/basic-prediction'\n",
    "\n",
    "# Define the path to the local training data file\n",
    "local_train = 'train_data.json'\n",
    "\n",
    "# Define the path to the local test data file\n",
    "local_test = 'test_data.json'\n",
    "\n",
    "# Upload the local training data file to the specified S3 bucket and prefix, returning the S3 URI\n",
    "train_uri = sagemaker_session.upload_data(local_train, bucket=bucket, key_prefix=prefix)\n",
    "\n",
    "# Upload the local test data file to the specified S3 bucket and prefix, returning the S3 URI\n",
    "test_uri = sagemaker_session.upload_data(local_test, bucket=bucket, key_prefix=prefix)\n",
    "\n",
    "# Print the execution role ARN to the console\n",
    "print(\"Execution Role ARN:\", role)\n",
    "\n",
    "# Print the AWS region name to the console\n",
    "print(\"AWS Region:\", region)\n",
    "\n",
    "# Print the S3 URI for the training data to the console\n",
    "print(\"Training Data S3 URI:\", train_uri)\n",
    "\n",
    "# Print the S3 URI for the test data to the console\n",
    "print(\"Test Data S3 URI:\", test_uri)\n"
   ]
  },
  {
   "cell_type": "markdown",
   "id": "393538e3-e71a-43db-86d2-cf52a76e9986",
   "metadata": {},
   "source": [
    "# Estimator Configuration for DeepAR Algorithm Training"
   ]
  },
  {
   "cell_type": "code",
   "execution_count": 17,
   "id": "727aac9e-54a5-4c3e-a150-87f12c6ae77d",
   "metadata": {
    "tags": []
   },
   "outputs": [],
   "source": [
    "from sagemaker.estimator import Estimator\n",
    "\n",
    "# Define an Estimator for the DeepAR algorithm in SageMaker\n",
    "deepar_estimator = Estimator(\n",
    "    sagemaker_session=sagemaker_session,  # Specify the SageMaker session\n",
    "    image_uri=image_uri,  # Specify the container image URI for the DeepAR algorithm\n",
    "    role=role,  # Specify the IAM role ARN used by SageMaker\n",
    "    instance_count=1,  # Specify the number of instances to use for training\n",
    "    instance_type='ml.m5.large',  # Specify the instance type for training\n",
    "    output_path='s3://{}/output'.format(bucket),  # Specify the S3 location for saving the model artifacts and output\n",
    "    base_job_name='onlineretail-deepar-forecasting'  # Specify the base job name for the training job\n",
    ")\n",
    "\n",
    "# Set hyperparameters for the DeepAR algorithm\n",
    "deepar_estimator.set_hyperparameters(\n",
    "    time_freq='D',  # Specify the time frequency of the data (e.g., 'D' for daily)\n",
    "    context_length=30,  # Specify the length of the context used for training (e.g., 30 days)\n",
    "    prediction_length=7,  # Specify the length of the prediction horizon (forecasting 7 days into the future)\n",
    "    epochs=20,  # Specify the number of training epochs\n",
    "    early_stopping_patience=10,  # Specify the number of epochs with no improvement before early stopping\n",
    "    num_dynamic_feat='auto',  # Automatically detect dynamic features (if any)\n",
    "    cardinality='auto'  # Automatically detect the cardinality of categorical features (if any)\n",
    ")"
   ]
  },
  {
   "cell_type": "markdown",
   "id": "ba92204e-4d08-4de1-97c7-d8eea7ed016a",
   "metadata": {},
   "source": [
    "# Model Training with DeepAR Estimator"
   ]
  },
  {
   "cell_type": "code",
   "execution_count": 18,
   "id": "6d5a9da6-9386-4aea-8967-d8b645ca87c0",
   "metadata": {
    "tags": []
   },
   "outputs": [
    {
     "name": "stderr",
     "output_type": "stream",
     "text": [
      "INFO:sagemaker:Creating training-job with name: onlineretail-deepar-forecasting-2024-04-04-15-35-53-036\n"
     ]
    },
    {
     "name": "stdout",
     "output_type": "stream",
     "text": [
      "2024-04-04 15:35:53 Starting - Starting the training job...\n",
      "2024-04-04 15:36:11 Starting - Preparing the instances for training...\n",
      "2024-04-04 15:36:47 Downloading - Downloading input data...\n",
      "2024-04-04 15:37:22 Downloading - Downloading the training image.....................\n",
      "2024-04-04 15:40:53 Training - Training image download completed. Training in progress...\u001b[34mDocker entrypoint called with argument(s): train\u001b[0m\n",
      "\u001b[34mRunning default environment configuration script\u001b[0m\n",
      "\u001b[34mRunning custom environment configuration script\u001b[0m\n",
      "\u001b[34m/opt/amazon/lib/python3.8/site-packages/mxnet/model.py:97: SyntaxWarning: \"is\" with a literal. Did you mean \"==\"?\n",
      "  if num_device is 1 and 'dist' not in kvstore:\u001b[0m\n",
      "\u001b[34m[04/04/2024 15:40:59 INFO 139954261391168] Reading default configuration from /opt/amazon/lib/python3.8/site-packages/algorithm/resources/default-input.json: {'_kvstore': 'auto', '_num_gpus': 'auto', '_num_kv_servers': 'auto', '_tuning_objective_metric': '', 'cardinality': 'auto', 'dropout_rate': '0.10', 'early_stopping_patience': '', 'embedding_dimension': '10', 'learning_rate': '0.001', 'likelihood': 'student-t', 'mini_batch_size': '128', 'num_cells': '40', 'num_dynamic_feat': 'auto', 'num_eval_samples': '100', 'num_layers': '2', 'test_quantiles': '[0.1, 0.2, 0.3, 0.4, 0.5, 0.6, 0.7, 0.8, 0.9]'}\u001b[0m\n",
      "\u001b[34m[04/04/2024 15:40:59 INFO 139954261391168] Merging with provided configuration from /opt/ml/input/config/hyperparameters.json: {'cardinality': 'auto', 'context_length': '30', 'early_stopping_patience': '10', 'epochs': '20', 'num_dynamic_feat': 'auto', 'prediction_length': '7', 'time_freq': 'D'}\u001b[0m\n",
      "\u001b[34m[04/04/2024 15:40:59 INFO 139954261391168] Final configuration: {'_kvstore': 'auto', '_num_gpus': 'auto', '_num_kv_servers': 'auto', '_tuning_objective_metric': '', 'cardinality': 'auto', 'dropout_rate': '0.10', 'early_stopping_patience': '10', 'embedding_dimension': '10', 'learning_rate': '0.001', 'likelihood': 'student-t', 'mini_batch_size': '128', 'num_cells': '40', 'num_dynamic_feat': 'auto', 'num_eval_samples': '100', 'num_layers': '2', 'test_quantiles': '[0.1, 0.2, 0.3, 0.4, 0.5, 0.6, 0.7, 0.8, 0.9]', 'context_length': '30', 'epochs': '20', 'prediction_length': '7', 'time_freq': 'D'}\u001b[0m\n",
      "\u001b[34mProcess 7 is a worker.\u001b[0m\n",
      "\u001b[34m[04/04/2024 15:40:59 INFO 139954261391168] Detected entry point for worker worker\u001b[0m\n",
      "\u001b[34m[04/04/2024 15:40:59 INFO 139954261391168] Using early stopping with patience 10\u001b[0m\n",
      "\u001b[34m[04/04/2024 15:40:59 INFO 139954261391168] random_seed is None\u001b[0m\n",
      "\u001b[34m[04/04/2024 15:40:59 INFO 139954261391168] [cardinality=auto] `cat` field was NOT found in the file `/opt/ml/input/data/train/train_data.json` and will NOT be used for training.\u001b[0m\n",
      "\u001b[34m[04/04/2024 15:40:59 INFO 139954261391168] [num_dynamic_feat=auto] `dynamic_feat` field was NOT found in the file `/opt/ml/input/data/train/train_data.json` and will NOT be used for training.\u001b[0m\n",
      "\u001b[34m[04/04/2024 15:40:59 INFO 139954261391168] Training set statistics:\u001b[0m\n",
      "\u001b[34m[04/04/2024 15:40:59 INFO 139954261391168] Real time series\u001b[0m\n",
      "\u001b[34m[04/04/2024 15:40:59 INFO 139954261391168] number of time series: 1\u001b[0m\n",
      "\u001b[34m[04/04/2024 15:40:59 INFO 139954261391168] number of observations: 480\u001b[0m\n",
      "\u001b[34m[04/04/2024 15:40:59 INFO 139954261391168] mean target length: 480.0\u001b[0m\n",
      "\u001b[34m[04/04/2024 15:40:59 INFO 139954261391168] min/mean/max target: 116.0/863.1387369791667/2660.25\u001b[0m\n",
      "\u001b[34m[04/04/2024 15:40:59 INFO 139954261391168] mean abs(target): 863.1387369791667\u001b[0m\n",
      "\u001b[34m[04/04/2024 15:40:59 INFO 139954261391168] contains missing values: no\u001b[0m\n",
      "\u001b[34m[04/04/2024 15:40:59 INFO 139954261391168] Small number of time series. Doing 1280 passes over dataset with prob 1.0 per epoch.\u001b[0m\n",
      "\u001b[34m[04/04/2024 15:40:59 INFO 139954261391168] Test set statistics:\u001b[0m\n",
      "\u001b[34m[04/04/2024 15:40:59 INFO 139954261391168] Real time series\u001b[0m\n",
      "\u001b[34m[04/04/2024 15:40:59 INFO 139954261391168] number of time series: 1\u001b[0m\n",
      "\u001b[34m[04/04/2024 15:40:59 INFO 139954261391168] number of observations: 120\u001b[0m\n",
      "\u001b[34m[04/04/2024 15:40:59 INFO 139954261391168] mean target length: 120.0\u001b[0m\n",
      "\u001b[34m[04/04/2024 15:40:59 INFO 139954261391168] min/mean/max target: 522.0499877929688/1236.7510416666667/3184.10009765625\u001b[0m\n",
      "\u001b[34m[04/04/2024 15:40:59 INFO 139954261391168] mean abs(target): 1236.7510416666667\u001b[0m\n",
      "\u001b[34m[04/04/2024 15:40:59 INFO 139954261391168] contains missing values: no\u001b[0m\n",
      "\u001b[34m/opt/amazon/lib/python3.8/site-packages/algorithm/core/date_feature_set.py:44: FutureWarning: weekofyear and week have been deprecated, please use DatetimeIndex.isocalendar().week instead, which returns a Series.  To exactly reproduce the behavior of week and weekofyear and return an Index, you may call pd.Int64Index(idx.isocalendar().week)\n",
      "  return index.weekofyear / 51.0 - 0.5\u001b[0m\n",
      "\u001b[34m[04/04/2024 15:40:59 INFO 139954261391168] #memory_usage::<batchbuffer> = 15.673828125 mb\u001b[0m\n",
      "\u001b[34m/opt/amazon/python3.8/lib/python3.8/subprocess.py:848: RuntimeWarning: line buffering (buffering=1) isn't supported in binary mode, the default buffer size will be used\n",
      "  self.stdout = io.open(c2pread, 'rb', bufsize)\u001b[0m\n",
      "\u001b[34m[04/04/2024 15:40:59 INFO 139954261391168] nvidia-smi: took 0.059 seconds to run.\u001b[0m\n",
      "\u001b[34m[04/04/2024 15:40:59 INFO 139954261391168] nvidia-smi identified 0 GPUs.\u001b[0m\n",
      "\u001b[34m[04/04/2024 15:40:59 INFO 139954261391168] Number of GPUs being used: 0\u001b[0m\n",
      "\u001b[34m[04/04/2024 15:40:59 INFO 139954261391168] Create Store: local\u001b[0m\n",
      "\u001b[34m#metrics {\"StartTime\": 1712245259.9639206, \"EndTime\": 1712245260.0607617, \"Dimensions\": {\"Algorithm\": \"AWS/DeepAR\", \"Host\": \"algo-1\", \"Operation\": \"training\"}, \"Metrics\": {\"get_graph.time\": {\"sum\": 95.59392929077148, \"count\": 1, \"min\": 95.59392929077148, \"max\": 95.59392929077148}}}\u001b[0m\n",
      "\u001b[34m[04/04/2024 15:41:00 INFO 139954261391168] Number of GPUs being used: 0\u001b[0m\n",
      "\u001b[34m[04/04/2024 15:41:00 INFO 139954261391168] #memory_usage::<model> = 33 mb\u001b[0m\n",
      "\u001b[34m#metrics {\"StartTime\": 1712245260.0608485, \"EndTime\": 1712245260.229036, \"Dimensions\": {\"Algorithm\": \"AWS/DeepAR\", \"Host\": \"algo-1\", \"Operation\": \"training\"}, \"Metrics\": {\"initialize.time\": {\"sum\": 264.9571895599365, \"count\": 1, \"min\": 264.9571895599365, \"max\": 264.9571895599365}}}\u001b[0m\n",
      "\u001b[34m[15:41:00] /opt/brazil-pkg-cache/packages/AIAlgorithmsMXNet/AIAlgorithmsMXNet-1.3.x_Cuda_11.1.x.404.0/AL2_x86_64/generic-flavor/src/src/operator/nn/mkldnn/mkldnn_base.cc:74: Allocate 20480 bytes with malloc directly\u001b[0m\n",
      "\u001b[34m[04/04/2024 15:41:00 INFO 139954261391168] Epoch[0] Batch[0] avg_epoch_loss=9.824333\u001b[0m\n",
      "\u001b[34m[04/04/2024 15:41:00 INFO 139954261391168] #quality_metric: host=algo-1, epoch=0, batch=0 train loss <loss>=9.824333190917969\u001b[0m\n",
      "\u001b[34m[04/04/2024 15:41:02 INFO 139954261391168] Epoch[0] Batch[5] avg_epoch_loss=8.756610\u001b[0m\n",
      "\u001b[34m[04/04/2024 15:41:02 INFO 139954261391168] #quality_metric: host=algo-1, epoch=0, batch=5 train loss <loss>=8.756609678268433\u001b[0m\n",
      "\u001b[34m[04/04/2024 15:41:02 INFO 139954261391168] Epoch[0] Batch [5]#011Speed: 496.77 samples/sec#011loss=8.756610\u001b[0m\n",
      "\u001b[34m[04/04/2024 15:41:03 INFO 139954261391168] Epoch[0] Batch[10] avg_epoch_loss=8.136697\u001b[0m\n",
      "\u001b[34m[04/04/2024 15:41:03 INFO 139954261391168] #quality_metric: host=algo-1, epoch=0, batch=10 train loss <loss>=7.39280138015747\u001b[0m\n",
      "\u001b[34m[04/04/2024 15:41:03 INFO 139954261391168] Epoch[0] Batch [10]#011Speed: 438.31 samples/sec#011loss=7.392801\u001b[0m\n",
      "\u001b[34m[04/04/2024 15:41:03 INFO 139954261391168] processed a total of 1341 examples\u001b[0m\n",
      "\u001b[34m#metrics {\"StartTime\": 1712245260.2291272, \"EndTime\": 1712245263.6424608, \"Dimensions\": {\"Algorithm\": \"AWS/DeepAR\", \"Host\": \"algo-1\", \"Operation\": \"training\"}, \"Metrics\": {\"epochs\": {\"sum\": 20.0, \"count\": 1, \"min\": 20, \"max\": 20}, \"update.time\": {\"sum\": 3413.228750228882, \"count\": 1, \"min\": 3413.228750228882, \"max\": 3413.228750228882}}}\u001b[0m\n",
      "\u001b[34m[04/04/2024 15:41:03 INFO 139954261391168] #throughput_metric: host=algo-1, train throughput=392.86608990594226 records/second\u001b[0m\n",
      "\u001b[34m[04/04/2024 15:41:03 INFO 139954261391168] #progress_metric: host=algo-1, completed 5.0 % of epochs\u001b[0m\n",
      "\u001b[34m[04/04/2024 15:41:03 INFO 139954261391168] #quality_metric: host=algo-1, epoch=0, train loss <loss>=8.136696815490723\u001b[0m\n",
      "\u001b[34m[04/04/2024 15:41:03 INFO 139954261391168] best epoch loss so far\u001b[0m\n",
      "\u001b[34m[04/04/2024 15:41:03 INFO 139954261391168] Saved checkpoint to \"/opt/ml/model/state_ef459118-5007-4ffb-9e14-f35775087d9f-0000.params\"\u001b[0m\n",
      "\u001b[34m#metrics {\"StartTime\": 1712245263.642573, \"EndTime\": 1712245263.6790297, \"Dimensions\": {\"Algorithm\": \"AWS/DeepAR\", \"Host\": \"algo-1\", \"Operation\": \"training\"}, \"Metrics\": {\"state.serialize.time\": {\"sum\": 35.344600677490234, \"count\": 1, \"min\": 35.344600677490234, \"max\": 35.344600677490234}}}\u001b[0m\n",
      "\u001b[34m[04/04/2024 15:41:04 INFO 139954261391168] Epoch[1] Batch[0] avg_epoch_loss=7.400843\u001b[0m\n",
      "\u001b[34m[04/04/2024 15:41:04 INFO 139954261391168] #quality_metric: host=algo-1, epoch=1, batch=0 train loss <loss>=7.400842666625977\u001b[0m\n",
      "\u001b[34m[04/04/2024 15:41:06 INFO 139954261391168] Epoch[1] Batch[5] avg_epoch_loss=7.381217\u001b[0m\n",
      "\u001b[34m[04/04/2024 15:41:06 INFO 139954261391168] #quality_metric: host=algo-1, epoch=1, batch=5 train loss <loss>=7.381217082341512\u001b[0m\n",
      "\u001b[34m[04/04/2024 15:41:06 INFO 139954261391168] Epoch[1] Batch [5]#011Speed: 424.76 samples/sec#011loss=7.381217\u001b[0m\n",
      "\u001b[34m[04/04/2024 15:41:07 INFO 139954261391168] processed a total of 1252 examples\u001b[0m\n",
      "\u001b[34m#metrics {\"StartTime\": 1712245263.67917, \"EndTime\": 1712245267.4333558, \"Dimensions\": {\"Algorithm\": \"AWS/DeepAR\", \"Host\": \"algo-1\", \"Operation\": \"training\"}, \"Metrics\": {\"update.time\": {\"sum\": 3754.096508026123, \"count\": 1, \"min\": 3754.096508026123, \"max\": 3754.096508026123}}}\u001b[0m\n",
      "\u001b[34m[04/04/2024 15:41:07 INFO 139954261391168] #throughput_metric: host=algo-1, train throughput=333.4818890049196 records/second\u001b[0m\n",
      "\u001b[34m[04/04/2024 15:41:07 INFO 139954261391168] #progress_metric: host=algo-1, completed 10.0 % of epochs\u001b[0m\n",
      "\u001b[34m[04/04/2024 15:41:07 INFO 139954261391168] #quality_metric: host=algo-1, epoch=1, train loss <loss>=7.333324813842774\u001b[0m\n",
      "\u001b[34m[04/04/2024 15:41:07 INFO 139954261391168] best epoch loss so far\u001b[0m\n",
      "\u001b[34m[04/04/2024 15:41:07 INFO 139954261391168] Saved checkpoint to \"/opt/ml/model/state_ca150c00-ecdd-44db-9d5f-5611eed56268-0000.params\"\u001b[0m\n",
      "\u001b[34m#metrics {\"StartTime\": 1712245267.4335284, \"EndTime\": 1712245267.4490967, \"Dimensions\": {\"Algorithm\": \"AWS/DeepAR\", \"Host\": \"algo-1\", \"Operation\": \"training\"}, \"Metrics\": {\"state.serialize.time\": {\"sum\": 14.629125595092773, \"count\": 1, \"min\": 14.629125595092773, \"max\": 14.629125595092773}}}\u001b[0m\n",
      "\u001b[34m[04/04/2024 15:41:08 INFO 139954261391168] Epoch[2] Batch[0] avg_epoch_loss=7.302542\u001b[0m\n",
      "\u001b[34m[04/04/2024 15:41:08 INFO 139954261391168] #quality_metric: host=algo-1, epoch=2, batch=0 train loss <loss>=7.302541732788086\u001b[0m\n",
      "\u001b[34m[04/04/2024 15:41:09 INFO 139954261391168] Epoch[2] Batch[5] avg_epoch_loss=7.170278\u001b[0m\n",
      "\u001b[34m[04/04/2024 15:41:09 INFO 139954261391168] #quality_metric: host=algo-1, epoch=2, batch=5 train loss <loss>=7.1702775955200195\u001b[0m\n",
      "\u001b[34m[04/04/2024 15:41:09 INFO 139954261391168] Epoch[2] Batch [5]#011Speed: 633.14 samples/sec#011loss=7.170278\u001b[0m\n",
      "\u001b[34m[04/04/2024 15:41:09 INFO 139954261391168] processed a total of 1270 examples\u001b[0m\n",
      "\u001b[34m#metrics {\"StartTime\": 1712245267.4491625, \"EndTime\": 1712245269.8783894, \"Dimensions\": {\"Algorithm\": \"AWS/DeepAR\", \"Host\": \"algo-1\", \"Operation\": \"training\"}, \"Metrics\": {\"update.time\": {\"sum\": 2429.1369915008545, \"count\": 1, \"min\": 2429.1369915008545, \"max\": 2429.1369915008545}}}\u001b[0m\n",
      "\u001b[34m[04/04/2024 15:41:09 INFO 139954261391168] #throughput_metric: host=algo-1, train throughput=522.7683699764876 records/second\u001b[0m\n",
      "\u001b[34m[04/04/2024 15:41:09 INFO 139954261391168] #progress_metric: host=algo-1, completed 15.0 % of epochs\u001b[0m\n",
      "\u001b[34m[04/04/2024 15:41:09 INFO 139954261391168] #quality_metric: host=algo-1, epoch=2, train loss <loss>=7.120594549179077\u001b[0m\n",
      "\u001b[34m[04/04/2024 15:41:09 INFO 139954261391168] best epoch loss so far\u001b[0m\n",
      "\u001b[34m[04/04/2024 15:41:09 INFO 139954261391168] Saved checkpoint to \"/opt/ml/model/state_6e8ad495-ada9-4d17-9aa9-14eac5ab23dd-0000.params\"\u001b[0m\n",
      "\u001b[34m#metrics {\"StartTime\": 1712245269.8785563, \"EndTime\": 1712245269.8951902, \"Dimensions\": {\"Algorithm\": \"AWS/DeepAR\", \"Host\": \"algo-1\", \"Operation\": \"training\"}, \"Metrics\": {\"state.serialize.time\": {\"sum\": 15.66624641418457, \"count\": 1, \"min\": 15.66624641418457, \"max\": 15.66624641418457}}}\u001b[0m\n",
      "\u001b[34m[04/04/2024 15:41:10 INFO 139954261391168] Epoch[3] Batch[0] avg_epoch_loss=7.026073\u001b[0m\n",
      "\u001b[34m[04/04/2024 15:41:10 INFO 139954261391168] #quality_metric: host=algo-1, epoch=3, batch=0 train loss <loss>=7.0260725021362305\u001b[0m\n",
      "\u001b[34m[04/04/2024 15:41:11 INFO 139954261391168] Epoch[3] Batch[5] avg_epoch_loss=6.974885\u001b[0m\n",
      "\u001b[34m[04/04/2024 15:41:11 INFO 139954261391168] #quality_metric: host=algo-1, epoch=3, batch=5 train loss <loss>=6.974885145823161\u001b[0m\n",
      "\u001b[34m[04/04/2024 15:41:11 INFO 139954261391168] Epoch[3] Batch [5]#011Speed: 631.24 samples/sec#011loss=6.974885\u001b[0m\n",
      "\u001b[34m[04/04/2024 15:41:12 INFO 139954261391168] processed a total of 1235 examples\u001b[0m\n",
      "\u001b[34m#metrics {\"StartTime\": 1712245269.895475, \"EndTime\": 1712245272.3446093, \"Dimensions\": {\"Algorithm\": \"AWS/DeepAR\", \"Host\": \"algo-1\", \"Operation\": \"training\"}, \"Metrics\": {\"update.time\": {\"sum\": 2449.0671157836914, \"count\": 1, \"min\": 2449.0671157836914, \"max\": 2449.0671157836914}}}\u001b[0m\n",
      "\u001b[34m[04/04/2024 15:41:12 INFO 139954261391168] #throughput_metric: host=algo-1, train throughput=504.25175063163306 records/second\u001b[0m\n",
      "\u001b[34m[04/04/2024 15:41:12 INFO 139954261391168] #progress_metric: host=algo-1, completed 20.0 % of epochs\u001b[0m\n",
      "\u001b[34m[04/04/2024 15:41:12 INFO 139954261391168] #quality_metric: host=algo-1, epoch=3, train loss <loss>=6.9912309646606445\u001b[0m\n",
      "\u001b[34m[04/04/2024 15:41:12 INFO 139954261391168] best epoch loss so far\u001b[0m\n",
      "\u001b[34m[04/04/2024 15:41:12 INFO 139954261391168] Saved checkpoint to \"/opt/ml/model/state_832d0380-1710-430d-982f-243e2251ba8d-0000.params\"\u001b[0m\n",
      "\u001b[34m#metrics {\"StartTime\": 1712245272.3446794, \"EndTime\": 1712245272.3594475, \"Dimensions\": {\"Algorithm\": \"AWS/DeepAR\", \"Host\": \"algo-1\", \"Operation\": \"training\"}, \"Metrics\": {\"state.serialize.time\": {\"sum\": 13.788938522338867, \"count\": 1, \"min\": 13.788938522338867, \"max\": 13.788938522338867}}}\u001b[0m\n",
      "\u001b[34m[04/04/2024 15:41:12 INFO 139954261391168] Epoch[4] Batch[0] avg_epoch_loss=7.035843\u001b[0m\n",
      "\u001b[34m[04/04/2024 15:41:12 INFO 139954261391168] #quality_metric: host=algo-1, epoch=4, batch=0 train loss <loss>=7.035843372344971\u001b[0m\n",
      "\u001b[34m[04/04/2024 15:41:13 INFO 139954261391168] Epoch[4] Batch[5] avg_epoch_loss=7.002331\u001b[0m\n",
      "\u001b[34m[04/04/2024 15:41:13 INFO 139954261391168] #quality_metric: host=algo-1, epoch=4, batch=5 train loss <loss>=7.0023307005564375\u001b[0m\n",
      "\u001b[34m[04/04/2024 15:41:13 INFO 139954261391168] Epoch[4] Batch [5]#011Speed: 631.14 samples/sec#011loss=7.002331\u001b[0m\n",
      "\u001b[34m[04/04/2024 15:41:15 INFO 139954261391168] Epoch[4] Batch[10] avg_epoch_loss=6.994859\u001b[0m\n",
      "\u001b[34m[04/04/2024 15:41:15 INFO 139954261391168] #quality_metric: host=algo-1, epoch=4, batch=10 train loss <loss>=6.985892868041992\u001b[0m\n",
      "\u001b[34m[04/04/2024 15:41:15 INFO 139954261391168] Epoch[4] Batch [10]#011Speed: 610.84 samples/sec#011loss=6.985893\u001b[0m\n",
      "\u001b[34m[04/04/2024 15:41:15 INFO 139954261391168] processed a total of 1335 examples\u001b[0m\n",
      "\u001b[34m#metrics {\"StartTime\": 1712245272.3596153, \"EndTime\": 1712245275.0018961, \"Dimensions\": {\"Algorithm\": \"AWS/DeepAR\", \"Host\": \"algo-1\", \"Operation\": \"training\"}, \"Metrics\": {\"update.time\": {\"sum\": 2642.1632766723633, \"count\": 1, \"min\": 2642.1632766723633, \"max\": 2642.1632766723633}}}\u001b[0m\n",
      "\u001b[34m[04/04/2024 15:41:15 INFO 139954261391168] #throughput_metric: host=algo-1, train throughput=505.2402076364289 records/second\u001b[0m\n",
      "\u001b[34m[04/04/2024 15:41:15 INFO 139954261391168] #progress_metric: host=algo-1, completed 25.0 % of epochs\u001b[0m\n",
      "\u001b[34m[04/04/2024 15:41:15 INFO 139954261391168] #quality_metric: host=algo-1, epoch=4, train loss <loss>=6.994858958504417\u001b[0m\n",
      "\u001b[34m[04/04/2024 15:41:15 INFO 139954261391168] loss did not improve\u001b[0m\n",
      "\u001b[34m[04/04/2024 15:41:15 INFO 139954261391168] Epoch[5] Batch[0] avg_epoch_loss=6.861784\u001b[0m\n",
      "\u001b[34m[04/04/2024 15:41:15 INFO 139954261391168] #quality_metric: host=algo-1, epoch=5, batch=0 train loss <loss>=6.861783504486084\u001b[0m\n",
      "\u001b[34m[04/04/2024 15:41:16 INFO 139954261391168] Epoch[5] Batch[5] avg_epoch_loss=6.877715\u001b[0m\n",
      "\u001b[34m[04/04/2024 15:41:16 INFO 139954261391168] #quality_metric: host=algo-1, epoch=5, batch=5 train loss <loss>=6.877714554468791\u001b[0m\n",
      "\u001b[34m[04/04/2024 15:41:16 INFO 139954261391168] Epoch[5] Batch [5]#011Speed: 623.38 samples/sec#011loss=6.877715\u001b[0m\n",
      "\u001b[34m[04/04/2024 15:41:17 INFO 139954261391168] processed a total of 1276 examples\u001b[0m\n",
      "\u001b[34m#metrics {\"StartTime\": 1712245275.001974, \"EndTime\": 1712245277.432717, \"Dimensions\": {\"Algorithm\": \"AWS/DeepAR\", \"Host\": \"algo-1\", \"Operation\": \"training\"}, \"Metrics\": {\"update.time\": {\"sum\": 2430.159568786621, \"count\": 1, \"min\": 2430.159568786621, \"max\": 2430.159568786621}}}\u001b[0m\n",
      "\u001b[34m[04/04/2024 15:41:17 INFO 139954261391168] #throughput_metric: host=algo-1, train throughput=525.0250821367655 records/second\u001b[0m\n",
      "\u001b[34m[04/04/2024 15:41:17 INFO 139954261391168] #progress_metric: host=algo-1, completed 30.0 % of epochs\u001b[0m\n",
      "\u001b[34m[04/04/2024 15:41:17 INFO 139954261391168] #quality_metric: host=algo-1, epoch=5, train loss <loss>=6.890747117996216\u001b[0m\n",
      "\u001b[34m[04/04/2024 15:41:17 INFO 139954261391168] best epoch loss so far\u001b[0m\n",
      "\u001b[34m[04/04/2024 15:41:17 INFO 139954261391168] Saved checkpoint to \"/opt/ml/model/state_a6d8a1fe-9b9d-40cd-a80c-7bdf252dd852-0000.params\"\u001b[0m\n",
      "\u001b[34m#metrics {\"StartTime\": 1712245277.4328775, \"EndTime\": 1712245277.4480956, \"Dimensions\": {\"Algorithm\": \"AWS/DeepAR\", \"Host\": \"algo-1\", \"Operation\": \"training\"}, \"Metrics\": {\"state.serialize.time\": {\"sum\": 14.467477798461914, \"count\": 1, \"min\": 14.467477798461914, \"max\": 14.467477798461914}}}\u001b[0m\n",
      "\u001b[34m[04/04/2024 15:41:18 INFO 139954261391168] Epoch[6] Batch[0] avg_epoch_loss=6.889939\u001b[0m\n",
      "\u001b[34m[04/04/2024 15:41:18 INFO 139954261391168] #quality_metric: host=algo-1, epoch=6, batch=0 train loss <loss>=6.889938831329346\u001b[0m\n",
      "\u001b[34m[04/04/2024 15:41:19 INFO 139954261391168] Epoch[6] Batch[5] avg_epoch_loss=6.941475\u001b[0m\n",
      "\u001b[34m[04/04/2024 15:41:19 INFO 139954261391168] #quality_metric: host=algo-1, epoch=6, batch=5 train loss <loss>=6.94147523244222\u001b[0m\n",
      "\u001b[34m[04/04/2024 15:41:19 INFO 139954261391168] Epoch[6] Batch [5]#011Speed: 630.75 samples/sec#011loss=6.941475\u001b[0m\n",
      "\u001b[34m[04/04/2024 15:41:20 INFO 139954261391168] Epoch[6] Batch[10] avg_epoch_loss=6.947598\u001b[0m\n",
      "\u001b[34m[04/04/2024 15:41:20 INFO 139954261391168] #quality_metric: host=algo-1, epoch=6, batch=10 train loss <loss>=6.954945850372314\u001b[0m\n",
      "\u001b[34m[04/04/2024 15:41:20 INFO 139954261391168] Epoch[6] Batch [10]#011Speed: 627.57 samples/sec#011loss=6.954946\u001b[0m\n",
      "\u001b[34m[04/04/2024 15:41:20 INFO 139954261391168] processed a total of 1283 examples\u001b[0m\n",
      "\u001b[34m#metrics {\"StartTime\": 1712245277.448163, \"EndTime\": 1712245280.1000695, \"Dimensions\": {\"Algorithm\": \"AWS/DeepAR\", \"Host\": \"algo-1\", \"Operation\": \"training\"}, \"Metrics\": {\"update.time\": {\"sum\": 2651.845693588257, \"count\": 1, \"min\": 2651.845693588257, \"max\": 2651.845693588257}}}\u001b[0m\n",
      "\u001b[34m[04/04/2024 15:41:20 INFO 139954261391168] #throughput_metric: host=algo-1, train throughput=483.79374692981605 records/second\u001b[0m\n",
      "\u001b[34m[04/04/2024 15:41:20 INFO 139954261391168] #progress_metric: host=algo-1, completed 35.0 % of epochs\u001b[0m\n",
      "\u001b[34m[04/04/2024 15:41:20 INFO 139954261391168] #quality_metric: host=algo-1, epoch=6, train loss <loss>=6.947598240592263\u001b[0m\n",
      "\u001b[34m[04/04/2024 15:41:20 INFO 139954261391168] loss did not improve\u001b[0m\n",
      "\u001b[34m[04/04/2024 15:41:20 INFO 139954261391168] Epoch[7] Batch[0] avg_epoch_loss=6.851469\u001b[0m\n",
      "\u001b[34m[04/04/2024 15:41:20 INFO 139954261391168] #quality_metric: host=algo-1, epoch=7, batch=0 train loss <loss>=6.851469039916992\u001b[0m\n",
      "\u001b[34m[04/04/2024 15:41:21 INFO 139954261391168] Epoch[7] Batch[5] avg_epoch_loss=6.819845\u001b[0m\n",
      "\u001b[34m[04/04/2024 15:41:21 INFO 139954261391168] #quality_metric: host=algo-1, epoch=7, batch=5 train loss <loss>=6.819845358530681\u001b[0m\n",
      "\u001b[34m[04/04/2024 15:41:21 INFO 139954261391168] Epoch[7] Batch [5]#011Speed: 633.59 samples/sec#011loss=6.819845\u001b[0m\n",
      "\u001b[34m[04/04/2024 15:41:22 INFO 139954261391168] Epoch[7] Batch[10] avg_epoch_loss=6.831704\u001b[0m\n",
      "\u001b[34m[04/04/2024 15:41:22 INFO 139954261391168] #quality_metric: host=algo-1, epoch=7, batch=10 train loss <loss>=6.845933628082276\u001b[0m\n",
      "\u001b[34m[04/04/2024 15:41:22 INFO 139954261391168] Epoch[7] Batch [10]#011Speed: 601.70 samples/sec#011loss=6.845934\u001b[0m\n",
      "\u001b[34m[04/04/2024 15:41:22 INFO 139954261391168] processed a total of 1325 examples\u001b[0m\n",
      "\u001b[34m#metrics {\"StartTime\": 1712245280.1001465, \"EndTime\": 1712245282.7561371, \"Dimensions\": {\"Algorithm\": \"AWS/DeepAR\", \"Host\": \"algo-1\", \"Operation\": \"training\"}, \"Metrics\": {\"update.time\": {\"sum\": 2655.543327331543, \"count\": 1, \"min\": 2655.543327331543, \"max\": 2655.543327331543}}}\u001b[0m\n",
      "\u001b[34m[04/04/2024 15:41:22 INFO 139954261391168] #throughput_metric: host=algo-1, train throughput=498.93683132245644 records/second\u001b[0m\n",
      "\u001b[34m[04/04/2024 15:41:22 INFO 139954261391168] #progress_metric: host=algo-1, completed 40.0 % of epochs\u001b[0m\n",
      "\u001b[34m[04/04/2024 15:41:22 INFO 139954261391168] #quality_metric: host=algo-1, epoch=7, train loss <loss>=6.8317036628723145\u001b[0m\n",
      "\u001b[34m[04/04/2024 15:41:22 INFO 139954261391168] best epoch loss so far\u001b[0m\n",
      "\u001b[34m[04/04/2024 15:41:22 INFO 139954261391168] Saved checkpoint to \"/opt/ml/model/state_41b63304-2015-429b-86e0-ef051940680d-0000.params\"\u001b[0m\n",
      "\u001b[34m#metrics {\"StartTime\": 1712245282.7561977, \"EndTime\": 1712245282.7718897, \"Dimensions\": {\"Algorithm\": \"AWS/DeepAR\", \"Host\": \"algo-1\", \"Operation\": \"training\"}, \"Metrics\": {\"state.serialize.time\": {\"sum\": 14.924287796020508, \"count\": 1, \"min\": 14.924287796020508, \"max\": 14.924287796020508}}}\u001b[0m\n",
      "\u001b[34m[04/04/2024 15:41:23 INFO 139954261391168] Epoch[8] Batch[0] avg_epoch_loss=6.831753\u001b[0m\n",
      "\u001b[34m[04/04/2024 15:41:23 INFO 139954261391168] #quality_metric: host=algo-1, epoch=8, batch=0 train loss <loss>=6.831753253936768\u001b[0m\n",
      "\u001b[34m[04/04/2024 15:41:24 INFO 139954261391168] Epoch[8] Batch[5] avg_epoch_loss=6.858526\u001b[0m\n",
      "\u001b[34m[04/04/2024 15:41:24 INFO 139954261391168] #quality_metric: host=algo-1, epoch=8, batch=5 train loss <loss>=6.858526070912679\u001b[0m\n",
      "\u001b[34m[04/04/2024 15:41:24 INFO 139954261391168] Epoch[8] Batch [5]#011Speed: 635.53 samples/sec#011loss=6.858526\u001b[0m\n",
      "\u001b[34m[04/04/2024 15:41:25 INFO 139954261391168] processed a total of 1269 examples\u001b[0m\n",
      "\u001b[34m#metrics {\"StartTime\": 1712245282.7719822, \"EndTime\": 1712245285.1803005, \"Dimensions\": {\"Algorithm\": \"AWS/DeepAR\", \"Host\": \"algo-1\", \"Operation\": \"training\"}, \"Metrics\": {\"update.time\": {\"sum\": 2408.1220626831055, \"count\": 1, \"min\": 2408.1220626831055, \"max\": 2408.1220626831055}}}\u001b[0m\n",
      "\u001b[34m[04/04/2024 15:41:25 INFO 139954261391168] #throughput_metric: host=algo-1, train throughput=526.9308551301732 records/second\u001b[0m\n",
      "\u001b[34m[04/04/2024 15:41:25 INFO 139954261391168] #progress_metric: host=algo-1, completed 45.0 % of epochs\u001b[0m\n",
      "\u001b[34m[04/04/2024 15:41:25 INFO 139954261391168] #quality_metric: host=algo-1, epoch=8, train loss <loss>=6.810513734817505\u001b[0m\n",
      "\u001b[34m[04/04/2024 15:41:25 INFO 139954261391168] best epoch loss so far\u001b[0m\n",
      "\u001b[34m[04/04/2024 15:41:25 INFO 139954261391168] Saved checkpoint to \"/opt/ml/model/state_3a715ac4-6d67-4d62-b4b2-72548c7a3452-0000.params\"\u001b[0m\n",
      "\u001b[34m#metrics {\"StartTime\": 1712245285.1803803, \"EndTime\": 1712245285.195633, \"Dimensions\": {\"Algorithm\": \"AWS/DeepAR\", \"Host\": \"algo-1\", \"Operation\": \"training\"}, \"Metrics\": {\"state.serialize.time\": {\"sum\": 14.30964469909668, \"count\": 1, \"min\": 14.30964469909668, \"max\": 14.30964469909668}}}\u001b[0m\n",
      "\u001b[34m[04/04/2024 15:41:25 INFO 139954261391168] Epoch[9] Batch[0] avg_epoch_loss=6.813297\u001b[0m\n",
      "\u001b[34m[04/04/2024 15:41:25 INFO 139954261391168] #quality_metric: host=algo-1, epoch=9, batch=0 train loss <loss>=6.813296794891357\u001b[0m\n",
      "\u001b[34m[04/04/2024 15:41:26 INFO 139954261391168] Epoch[9] Batch[5] avg_epoch_loss=6.738475\u001b[0m\n",
      "\u001b[34m[04/04/2024 15:41:26 INFO 139954261391168] #quality_metric: host=algo-1, epoch=9, batch=5 train loss <loss>=6.738475402196248\u001b[0m\n",
      "\u001b[34m[04/04/2024 15:41:26 INFO 139954261391168] Epoch[9] Batch [5]#011Speed: 629.87 samples/sec#011loss=6.738475\u001b[0m\n",
      "\u001b[34m[04/04/2024 15:41:27 INFO 139954261391168] processed a total of 1267 examples\u001b[0m\n",
      "\u001b[34m#metrics {\"StartTime\": 1712245285.1957102, \"EndTime\": 1712245287.6132193, \"Dimensions\": {\"Algorithm\": \"AWS/DeepAR\", \"Host\": \"algo-1\", \"Operation\": \"training\"}, \"Metrics\": {\"update.time\": {\"sum\": 2417.4275398254395, \"count\": 1, \"min\": 2417.4275398254395, \"max\": 2417.4275398254395}}}\u001b[0m\n",
      "\u001b[34m[04/04/2024 15:41:27 INFO 139954261391168] #throughput_metric: host=algo-1, train throughput=524.0638148479499 records/second\u001b[0m\n",
      "\u001b[34m[04/04/2024 15:41:27 INFO 139954261391168] #progress_metric: host=algo-1, completed 50.0 % of epochs\u001b[0m\n",
      "\u001b[34m[04/04/2024 15:41:27 INFO 139954261391168] #quality_metric: host=algo-1, epoch=9, train loss <loss>=6.755375814437866\u001b[0m\n",
      "\u001b[34m[04/04/2024 15:41:27 INFO 139954261391168] best epoch loss so far\u001b[0m\n",
      "\u001b[34m[04/04/2024 15:41:27 INFO 139954261391168] Saved checkpoint to \"/opt/ml/model/state_14a12f16-faa4-479a-9618-10fee7097a7d-0000.params\"\u001b[0m\n",
      "\u001b[34m#metrics {\"StartTime\": 1712245287.6133811, \"EndTime\": 1712245287.6282964, \"Dimensions\": {\"Algorithm\": \"AWS/DeepAR\", \"Host\": \"algo-1\", \"Operation\": \"training\"}, \"Metrics\": {\"state.serialize.time\": {\"sum\": 14.327764511108398, \"count\": 1, \"min\": 14.327764511108398, \"max\": 14.327764511108398}}}\u001b[0m\n",
      "\u001b[34m[04/04/2024 15:41:28 INFO 139954261391168] Epoch[10] Batch[0] avg_epoch_loss=6.850067\u001b[0m\n",
      "\u001b[34m[04/04/2024 15:41:28 INFO 139954261391168] #quality_metric: host=algo-1, epoch=10, batch=0 train loss <loss>=6.850067138671875\u001b[0m\n",
      "\u001b[34m[04/04/2024 15:41:29 INFO 139954261391168] Epoch[10] Batch[5] avg_epoch_loss=6.710403\u001b[0m\n",
      "\u001b[34m[04/04/2024 15:41:29 INFO 139954261391168] #quality_metric: host=algo-1, epoch=10, batch=5 train loss <loss>=6.710402886072795\u001b[0m\n",
      "\u001b[34m[04/04/2024 15:41:29 INFO 139954261391168] Epoch[10] Batch [5]#011Speed: 636.54 samples/sec#011loss=6.710403\u001b[0m\n",
      "\u001b[34m[04/04/2024 15:41:30 INFO 139954261391168] Epoch[10] Batch[10] avg_epoch_loss=6.762207\u001b[0m\n",
      "\u001b[34m[04/04/2024 15:41:30 INFO 139954261391168] #quality_metric: host=algo-1, epoch=10, batch=10 train loss <loss>=6.824372673034668\u001b[0m\n",
      "\u001b[34m[04/04/2024 15:41:30 INFO 139954261391168] Epoch[10] Batch [10]#011Speed: 627.40 samples/sec#011loss=6.824373\u001b[0m\n",
      "\u001b[34m[04/04/2024 15:41:30 INFO 139954261391168] processed a total of 1296 examples\u001b[0m\n",
      "\u001b[34m#metrics {\"StartTime\": 1712245287.6283634, \"EndTime\": 1712245290.2278087, \"Dimensions\": {\"Algorithm\": \"AWS/DeepAR\", \"Host\": \"algo-1\", \"Operation\": \"training\"}, \"Metrics\": {\"update.time\": {\"sum\": 2599.3902683258057, \"count\": 1, \"min\": 2599.3902683258057, \"max\": 2599.3902683258057}}}\u001b[0m\n",
      "\u001b[34m[04/04/2024 15:41:30 INFO 139954261391168] #throughput_metric: host=algo-1, train throughput=498.561450169013 records/second\u001b[0m\n",
      "\u001b[34m[04/04/2024 15:41:30 INFO 139954261391168] #progress_metric: host=algo-1, completed 55.0 % of epochs\u001b[0m\n",
      "\u001b[34m[04/04/2024 15:41:30 INFO 139954261391168] #quality_metric: host=algo-1, epoch=10, train loss <loss>=6.762207334691828\u001b[0m\n",
      "\u001b[34m[04/04/2024 15:41:30 INFO 139954261391168] loss did not improve\u001b[0m\n",
      "\u001b[34m[04/04/2024 15:41:30 INFO 139954261391168] Epoch[11] Batch[0] avg_epoch_loss=6.823262\u001b[0m\n",
      "\u001b[34m[04/04/2024 15:41:30 INFO 139954261391168] #quality_metric: host=algo-1, epoch=11, batch=0 train loss <loss>=6.8232622146606445\u001b[0m\n",
      "\u001b[34m[04/04/2024 15:41:31 INFO 139954261391168] Epoch[11] Batch[5] avg_epoch_loss=6.733756\u001b[0m\n",
      "\u001b[34m[04/04/2024 15:41:31 INFO 139954261391168] #quality_metric: host=algo-1, epoch=11, batch=5 train loss <loss>=6.733755985895793\u001b[0m\n",
      "\u001b[34m[04/04/2024 15:41:31 INFO 139954261391168] Epoch[11] Batch [5]#011Speed: 621.44 samples/sec#011loss=6.733756\u001b[0m\n",
      "\u001b[34m[04/04/2024 15:41:32 INFO 139954261391168] processed a total of 1267 examples\u001b[0m\n",
      "\u001b[34m#metrics {\"StartTime\": 1712245290.2278678, \"EndTime\": 1712245292.689109, \"Dimensions\": {\"Algorithm\": \"AWS/DeepAR\", \"Host\": \"algo-1\", \"Operation\": \"training\"}, \"Metrics\": {\"update.time\": {\"sum\": 2460.4761600494385, \"count\": 1, \"min\": 2460.4761600494385, \"max\": 2460.4761600494385}}}\u001b[0m\n",
      "\u001b[34m[04/04/2024 15:41:32 INFO 139954261391168] #throughput_metric: host=algo-1, train throughput=514.9160303997342 records/second\u001b[0m\n",
      "\u001b[34m[04/04/2024 15:41:32 INFO 139954261391168] #progress_metric: host=algo-1, completed 60.0 % of epochs\u001b[0m\n",
      "\u001b[34m[04/04/2024 15:41:32 INFO 139954261391168] #quality_metric: host=algo-1, epoch=11, train loss <loss>=6.734307718276978\u001b[0m\n",
      "\u001b[34m[04/04/2024 15:41:32 INFO 139954261391168] best epoch loss so far\u001b[0m\n",
      "\u001b[34m[04/04/2024 15:41:32 INFO 139954261391168] Saved checkpoint to \"/opt/ml/model/state_a0675fbf-0d3a-41d5-9f16-719afa31fda3-0000.params\"\u001b[0m\n",
      "\u001b[34m#metrics {\"StartTime\": 1712245292.6891906, \"EndTime\": 1712245292.7046354, \"Dimensions\": {\"Algorithm\": \"AWS/DeepAR\", \"Host\": \"algo-1\", \"Operation\": \"training\"}, \"Metrics\": {\"state.serialize.time\": {\"sum\": 14.811277389526367, \"count\": 1, \"min\": 14.811277389526367, \"max\": 14.811277389526367}}}\u001b[0m\n",
      "\u001b[34m[04/04/2024 15:41:33 INFO 139954261391168] Epoch[12] Batch[0] avg_epoch_loss=6.729699\u001b[0m\n",
      "\u001b[34m[04/04/2024 15:41:33 INFO 139954261391168] #quality_metric: host=algo-1, epoch=12, batch=0 train loss <loss>=6.729698657989502\u001b[0m\n",
      "\u001b[34m[04/04/2024 15:41:34 INFO 139954261391168] Epoch[12] Batch[5] avg_epoch_loss=6.725072\u001b[0m\n",
      "\u001b[34m[04/04/2024 15:41:34 INFO 139954261391168] #quality_metric: host=algo-1, epoch=12, batch=5 train loss <loss>=6.725071827570598\u001b[0m\n",
      "\u001b[34m[04/04/2024 15:41:34 INFO 139954261391168] Epoch[12] Batch [5]#011Speed: 632.82 samples/sec#011loss=6.725072\u001b[0m\n",
      "\u001b[34m[04/04/2024 15:41:35 INFO 139954261391168] Epoch[12] Batch[10] avg_epoch_loss=6.721287\u001b[0m\n",
      "\u001b[34m[04/04/2024 15:41:35 INFO 139954261391168] #quality_metric: host=algo-1, epoch=12, batch=10 train loss <loss>=6.716744232177734\u001b[0m\n",
      "\u001b[34m[04/04/2024 15:41:35 INFO 139954261391168] Epoch[12] Batch [10]#011Speed: 619.41 samples/sec#011loss=6.716744\u001b[0m\n",
      "\u001b[34m[04/04/2024 15:41:35 INFO 139954261391168] processed a total of 1331 examples\u001b[0m\n",
      "\u001b[34m#metrics {\"StartTime\": 1712245292.7047179, \"EndTime\": 1712245295.3226817, \"Dimensions\": {\"Algorithm\": \"AWS/DeepAR\", \"Host\": \"algo-1\", \"Operation\": \"training\"}, \"Metrics\": {\"update.time\": {\"sum\": 2617.90132522583, \"count\": 1, \"min\": 2617.90132522583, \"max\": 2617.90132522583}}}\u001b[0m\n",
      "\u001b[34m[04/04/2024 15:41:35 INFO 139954261391168] #throughput_metric: host=algo-1, train throughput=508.40006815558013 records/second\u001b[0m\n",
      "\u001b[34m[04/04/2024 15:41:35 INFO 139954261391168] #progress_metric: host=algo-1, completed 65.0 % of epochs\u001b[0m\n",
      "\u001b[34m[04/04/2024 15:41:35 INFO 139954261391168] #quality_metric: host=algo-1, epoch=12, train loss <loss>=6.721286556937478\u001b[0m\n",
      "\u001b[34m[04/04/2024 15:41:35 INFO 139954261391168] best epoch loss so far\u001b[0m\n",
      "\u001b[34m[04/04/2024 15:41:35 INFO 139954261391168] Saved checkpoint to \"/opt/ml/model/state_13ea83d4-20e4-4bce-ae39-d86805c3edcd-0000.params\"\u001b[0m\n",
      "\u001b[34m#metrics {\"StartTime\": 1712245295.322761, \"EndTime\": 1712245295.337354, \"Dimensions\": {\"Algorithm\": \"AWS/DeepAR\", \"Host\": \"algo-1\", \"Operation\": \"training\"}, \"Metrics\": {\"state.serialize.time\": {\"sum\": 14.10055160522461, \"count\": 1, \"min\": 14.10055160522461, \"max\": 14.10055160522461}}}\u001b[0m\n",
      "\u001b[34m[04/04/2024 15:41:35 INFO 139954261391168] Epoch[13] Batch[0] avg_epoch_loss=6.714887\u001b[0m\n",
      "\u001b[34m[04/04/2024 15:41:35 INFO 139954261391168] #quality_metric: host=algo-1, epoch=13, batch=0 train loss <loss>=6.7148871421813965\u001b[0m\n",
      "\u001b[34m[04/04/2024 15:41:36 INFO 139954261391168] Epoch[13] Batch[5] avg_epoch_loss=6.688086\u001b[0m\n",
      "\u001b[34m[04/04/2024 15:41:36 INFO 139954261391168] #quality_metric: host=algo-1, epoch=13, batch=5 train loss <loss>=6.688086271286011\u001b[0m\n",
      "\u001b[34m[04/04/2024 15:41:36 INFO 139954261391168] Epoch[13] Batch [5]#011Speed: 617.10 samples/sec#011loss=6.688086\u001b[0m\n",
      "\u001b[34m[04/04/2024 15:41:37 INFO 139954261391168] Epoch[13] Batch[10] avg_epoch_loss=6.684011\u001b[0m\n",
      "\u001b[34m[04/04/2024 15:41:37 INFO 139954261391168] #quality_metric: host=algo-1, epoch=13, batch=10 train loss <loss>=6.679121303558349\u001b[0m\n",
      "\u001b[34m[04/04/2024 15:41:37 INFO 139954261391168] Epoch[13] Batch [10]#011Speed: 613.16 samples/sec#011loss=6.679121\u001b[0m\n",
      "\u001b[34m[04/04/2024 15:41:37 INFO 139954261391168] processed a total of 1285 examples\u001b[0m\n",
      "\u001b[34m#metrics {\"StartTime\": 1712245295.337421, \"EndTime\": 1712245297.9985816, \"Dimensions\": {\"Algorithm\": \"AWS/DeepAR\", \"Host\": \"algo-1\", \"Operation\": \"training\"}, \"Metrics\": {\"update.time\": {\"sum\": 2661.102533340454, \"count\": 1, \"min\": 2661.102533340454, \"max\": 2661.102533340454}}}\u001b[0m\n",
      "\u001b[34m[04/04/2024 15:41:37 INFO 139954261391168] #throughput_metric: host=algo-1, train throughput=482.8620526508503 records/second\u001b[0m\n",
      "\u001b[34m[04/04/2024 15:41:37 INFO 139954261391168] #progress_metric: host=algo-1, completed 70.0 % of epochs\u001b[0m\n",
      "\u001b[34m[04/04/2024 15:41:37 INFO 139954261391168] #quality_metric: host=algo-1, epoch=13, train loss <loss>=6.684011285955256\u001b[0m\n",
      "\u001b[34m[04/04/2024 15:41:37 INFO 139954261391168] best epoch loss so far\u001b[0m\n",
      "\u001b[34m[04/04/2024 15:41:38 INFO 139954261391168] Saved checkpoint to \"/opt/ml/model/state_e4eed8a5-cd50-4914-88d0-95e23ea7a01c-0000.params\"\u001b[0m\n",
      "\u001b[34m#metrics {\"StartTime\": 1712245297.998649, \"EndTime\": 1712245298.0140996, \"Dimensions\": {\"Algorithm\": \"AWS/DeepAR\", \"Host\": \"algo-1\", \"Operation\": \"training\"}, \"Metrics\": {\"state.serialize.time\": {\"sum\": 14.665842056274414, \"count\": 1, \"min\": 14.665842056274414, \"max\": 14.665842056274414}}}\u001b[0m\n",
      "\u001b[34m[04/04/2024 15:41:38 INFO 139954261391168] Epoch[14] Batch[0] avg_epoch_loss=6.562138\u001b[0m\n",
      "\u001b[34m[04/04/2024 15:41:38 INFO 139954261391168] #quality_metric: host=algo-1, epoch=14, batch=0 train loss <loss>=6.562137603759766\u001b[0m\n",
      "\u001b[34m[04/04/2024 15:41:39 INFO 139954261391168] Epoch[14] Batch[5] avg_epoch_loss=6.595027\u001b[0m\n",
      "\u001b[34m[04/04/2024 15:41:39 INFO 139954261391168] #quality_metric: host=algo-1, epoch=14, batch=5 train loss <loss>=6.595026810963948\u001b[0m\n",
      "\u001b[34m[04/04/2024 15:41:39 INFO 139954261391168] Epoch[14] Batch [5]#011Speed: 635.61 samples/sec#011loss=6.595027\u001b[0m\n",
      "\u001b[34m[04/04/2024 15:41:40 INFO 139954261391168] processed a total of 1267 examples\u001b[0m\n",
      "\u001b[34m#metrics {\"StartTime\": 1712245298.0142465, \"EndTime\": 1712245300.4116733, \"Dimensions\": {\"Algorithm\": \"AWS/DeepAR\", \"Host\": \"algo-1\", \"Operation\": \"training\"}, \"Metrics\": {\"update.time\": {\"sum\": 2397.3474502563477, \"count\": 1, \"min\": 2397.3474502563477, \"max\": 2397.3474502563477}}}\u001b[0m\n",
      "\u001b[34m[04/04/2024 15:41:40 INFO 139954261391168] #throughput_metric: host=algo-1, train throughput=528.4745024316547 records/second\u001b[0m\n",
      "\u001b[34m[04/04/2024 15:41:40 INFO 139954261391168] #progress_metric: host=algo-1, completed 75.0 % of epochs\u001b[0m\n",
      "\u001b[34m[04/04/2024 15:41:40 INFO 139954261391168] #quality_metric: host=algo-1, epoch=14, train loss <loss>=6.588509130477905\u001b[0m\n",
      "\u001b[34m[04/04/2024 15:41:40 INFO 139954261391168] best epoch loss so far\u001b[0m\n",
      "\u001b[34m[04/04/2024 15:41:40 INFO 139954261391168] Saved checkpoint to \"/opt/ml/model/state_0ca351aa-6e0f-4655-835a-6041b977b92f-0000.params\"\u001b[0m\n",
      "\u001b[34m#metrics {\"StartTime\": 1712245300.411755, \"EndTime\": 1712245300.427726, \"Dimensions\": {\"Algorithm\": \"AWS/DeepAR\", \"Host\": \"algo-1\", \"Operation\": \"training\"}, \"Metrics\": {\"state.serialize.time\": {\"sum\": 14.887094497680664, \"count\": 1, \"min\": 14.887094497680664, \"max\": 14.887094497680664}}}\u001b[0m\n",
      "\u001b[34m[04/04/2024 15:41:40 INFO 139954261391168] Epoch[15] Batch[0] avg_epoch_loss=6.591540\u001b[0m\n",
      "\u001b[34m[04/04/2024 15:41:40 INFO 139954261391168] #quality_metric: host=algo-1, epoch=15, batch=0 train loss <loss>=6.591540336608887\u001b[0m\n",
      "\u001b[34m[04/04/2024 15:41:42 INFO 139954261391168] Epoch[15] Batch[5] avg_epoch_loss=6.589623\u001b[0m\n",
      "\u001b[34m[04/04/2024 15:41:42 INFO 139954261391168] #quality_metric: host=algo-1, epoch=15, batch=5 train loss <loss>=6.589623053868611\u001b[0m\n",
      "\u001b[34m[04/04/2024 15:41:42 INFO 139954261391168] Epoch[15] Batch [5]#011Speed: 628.68 samples/sec#011loss=6.589623\u001b[0m\n",
      "\u001b[34m[04/04/2024 15:41:43 INFO 139954261391168] Epoch[15] Batch[10] avg_epoch_loss=6.608845\u001b[0m\n",
      "\u001b[34m[04/04/2024 15:41:43 INFO 139954261391168] #quality_metric: host=algo-1, epoch=15, batch=10 train loss <loss>=6.631912136077881\u001b[0m\n",
      "\u001b[34m[04/04/2024 15:41:43 INFO 139954261391168] Epoch[15] Batch [10]#011Speed: 594.52 samples/sec#011loss=6.631912\u001b[0m\n",
      "\u001b[34m[04/04/2024 15:41:43 INFO 139954261391168] processed a total of 1289 examples\u001b[0m\n",
      "\u001b[34m#metrics {\"StartTime\": 1712245300.4277942, \"EndTime\": 1712245303.0870466, \"Dimensions\": {\"Algorithm\": \"AWS/DeepAR\", \"Host\": \"algo-1\", \"Operation\": \"training\"}, \"Metrics\": {\"update.time\": {\"sum\": 2659.1737270355225, \"count\": 1, \"min\": 2659.1737270355225, \"max\": 2659.1737270355225}}}\u001b[0m\n",
      "\u001b[34m[04/04/2024 15:41:43 INFO 139954261391168] #throughput_metric: host=algo-1, train throughput=484.71387591586665 records/second\u001b[0m\n",
      "\u001b[34m[04/04/2024 15:41:43 INFO 139954261391168] #progress_metric: host=algo-1, completed 80.0 % of epochs\u001b[0m\n",
      "\u001b[34m[04/04/2024 15:41:43 INFO 139954261391168] #quality_metric: host=algo-1, epoch=15, train loss <loss>=6.608845363963734\u001b[0m\n",
      "\u001b[34m[04/04/2024 15:41:43 INFO 139954261391168] loss did not improve\u001b[0m\n",
      "\u001b[34m[04/04/2024 15:41:43 INFO 139954261391168] Epoch[16] Batch[0] avg_epoch_loss=6.444577\u001b[0m\n",
      "\u001b[34m[04/04/2024 15:41:43 INFO 139954261391168] #quality_metric: host=algo-1, epoch=16, batch=0 train loss <loss>=6.444576740264893\u001b[0m\n",
      "\u001b[34m[04/04/2024 15:41:44 INFO 139954261391168] Epoch[16] Batch[5] avg_epoch_loss=6.493549\u001b[0m\n",
      "\u001b[34m[04/04/2024 15:41:44 INFO 139954261391168] #quality_metric: host=algo-1, epoch=16, batch=5 train loss <loss>=6.49354871114095\u001b[0m\n",
      "\u001b[34m[04/04/2024 15:41:44 INFO 139954261391168] Epoch[16] Batch [5]#011Speed: 633.06 samples/sec#011loss=6.493549\u001b[0m\n",
      "\u001b[34m[04/04/2024 15:41:45 INFO 139954261391168] processed a total of 1250 examples\u001b[0m\n",
      "\u001b[34m#metrics {\"StartTime\": 1712245303.0871255, \"EndTime\": 1712245305.4955812, \"Dimensions\": {\"Algorithm\": \"AWS/DeepAR\", \"Host\": \"algo-1\", \"Operation\": \"training\"}, \"Metrics\": {\"update.time\": {\"sum\": 2407.9506397247314, \"count\": 1, \"min\": 2407.9506397247314, \"max\": 2407.9506397247314}}}\u001b[0m\n",
      "\u001b[34m[04/04/2024 15:41:45 INFO 139954261391168] #throughput_metric: host=algo-1, train throughput=519.0794529531772 records/second\u001b[0m\n",
      "\u001b[34m[04/04/2024 15:41:45 INFO 139954261391168] #progress_metric: host=algo-1, completed 85.0 % of epochs\u001b[0m\n",
      "\u001b[34m[04/04/2024 15:41:45 INFO 139954261391168] #quality_metric: host=algo-1, epoch=16, train loss <loss>=6.486310005187988\u001b[0m\n",
      "\u001b[34m[04/04/2024 15:41:45 INFO 139954261391168] best epoch loss so far\u001b[0m\n",
      "\u001b[34m[04/04/2024 15:41:45 INFO 139954261391168] Saved checkpoint to \"/opt/ml/model/state_3c5deae9-f406-4596-b3e0-9dd8ab7c9a46-0000.params\"\u001b[0m\n",
      "\u001b[34m#metrics {\"StartTime\": 1712245305.4956582, \"EndTime\": 1712245305.5120928, \"Dimensions\": {\"Algorithm\": \"AWS/DeepAR\", \"Host\": \"algo-1\", \"Operation\": \"training\"}, \"Metrics\": {\"state.serialize.time\": {\"sum\": 15.324115753173828, \"count\": 1, \"min\": 15.324115753173828, \"max\": 15.324115753173828}}}\u001b[0m\n",
      "\u001b[34m[04/04/2024 15:41:46 INFO 139954261391168] Epoch[17] Batch[0] avg_epoch_loss=6.557506\u001b[0m\n",
      "\u001b[34m[04/04/2024 15:41:46 INFO 139954261391168] #quality_metric: host=algo-1, epoch=17, batch=0 train loss <loss>=6.557506084442139\u001b[0m\n",
      "\u001b[34m[04/04/2024 15:41:47 INFO 139954261391168] Epoch[17] Batch[5] avg_epoch_loss=6.504406\u001b[0m\n",
      "\u001b[34m[04/04/2024 15:41:47 INFO 139954261391168] #quality_metric: host=algo-1, epoch=17, batch=5 train loss <loss>=6.504406293233235\u001b[0m\n",
      "\u001b[34m[04/04/2024 15:41:47 INFO 139954261391168] Epoch[17] Batch [5]#011Speed: 620.23 samples/sec#011loss=6.504406\u001b[0m\n",
      "\u001b[34m[04/04/2024 15:41:47 INFO 139954261391168] processed a total of 1275 examples\u001b[0m\n",
      "\u001b[34m#metrics {\"StartTime\": 1712245305.5121717, \"EndTime\": 1712245307.9509394, \"Dimensions\": {\"Algorithm\": \"AWS/DeepAR\", \"Host\": \"algo-1\", \"Operation\": \"training\"}, \"Metrics\": {\"update.time\": {\"sum\": 2438.7032985687256, \"count\": 1, \"min\": 2438.7032985687256, \"max\": 2438.7032985687256}}}\u001b[0m\n",
      "\u001b[34m[04/04/2024 15:41:47 INFO 139954261391168] #throughput_metric: host=algo-1, train throughput=522.7961857077246 records/second\u001b[0m\n",
      "\u001b[34m[04/04/2024 15:41:47 INFO 139954261391168] #progress_metric: host=algo-1, completed 90.0 % of epochs\u001b[0m\n",
      "\u001b[34m[04/04/2024 15:41:47 INFO 139954261391168] #quality_metric: host=algo-1, epoch=17, train loss <loss>=6.50102653503418\u001b[0m\n",
      "\u001b[34m[04/04/2024 15:41:47 INFO 139954261391168] loss did not improve\u001b[0m\n",
      "\u001b[34m[04/04/2024 15:41:48 INFO 139954261391168] Epoch[18] Batch[0] avg_epoch_loss=6.515755\u001b[0m\n",
      "\u001b[34m[04/04/2024 15:41:48 INFO 139954261391168] #quality_metric: host=algo-1, epoch=18, batch=0 train loss <loss>=6.515754699707031\u001b[0m\n",
      "\u001b[34m[04/04/2024 15:41:49 INFO 139954261391168] Epoch[18] Batch[5] avg_epoch_loss=6.516727\u001b[0m\n",
      "\u001b[34m[04/04/2024 15:41:49 INFO 139954261391168] #quality_metric: host=algo-1, epoch=18, batch=5 train loss <loss>=6.516727288564046\u001b[0m\n",
      "\u001b[34m[04/04/2024 15:41:49 INFO 139954261391168] Epoch[18] Batch [5]#011Speed: 632.37 samples/sec#011loss=6.516727\u001b[0m\n",
      "\u001b[34m[04/04/2024 15:41:50 INFO 139954261391168] Epoch[18] Batch[10] avg_epoch_loss=6.506063\u001b[0m\n",
      "\u001b[34m[04/04/2024 15:41:50 INFO 139954261391168] #quality_metric: host=algo-1, epoch=18, batch=10 train loss <loss>=6.493265056610108\u001b[0m\n",
      "\u001b[34m[04/04/2024 15:41:50 INFO 139954261391168] Epoch[18] Batch [10]#011Speed: 620.35 samples/sec#011loss=6.493265\u001b[0m\n",
      "\u001b[34m[04/04/2024 15:41:50 INFO 139954261391168] processed a total of 1307 examples\u001b[0m\n",
      "\u001b[34m#metrics {\"StartTime\": 1712245307.9510102, \"EndTime\": 1712245310.5800986, \"Dimensions\": {\"Algorithm\": \"AWS/DeepAR\", \"Host\": \"algo-1\", \"Operation\": \"training\"}, \"Metrics\": {\"update.time\": {\"sum\": 2628.264904022217, \"count\": 1, \"min\": 2628.264904022217, \"max\": 2628.264904022217}}}\u001b[0m\n",
      "\u001b[34m[04/04/2024 15:41:50 INFO 139954261391168] #throughput_metric: host=algo-1, train throughput=497.2648241593938 records/second\u001b[0m\n",
      "\u001b[34m[04/04/2024 15:41:50 INFO 139954261391168] #progress_metric: host=algo-1, completed 95.0 % of epochs\u001b[0m\n",
      "\u001b[34m[04/04/2024 15:41:50 INFO 139954261391168] #quality_metric: host=algo-1, epoch=18, train loss <loss>=6.5060626376758925\u001b[0m\n",
      "\u001b[34m[04/04/2024 15:41:50 INFO 139954261391168] loss did not improve\u001b[0m\n",
      "\u001b[34m[04/04/2024 15:41:51 INFO 139954261391168] Epoch[19] Batch[0] avg_epoch_loss=6.529367\u001b[0m\n",
      "\u001b[34m[04/04/2024 15:41:51 INFO 139954261391168] #quality_metric: host=algo-1, epoch=19, batch=0 train loss <loss>=6.529367446899414\u001b[0m\n",
      "\u001b[34m[04/04/2024 15:41:52 INFO 139954261391168] Epoch[19] Batch[5] avg_epoch_loss=6.450052\u001b[0m\n",
      "\u001b[34m[04/04/2024 15:41:52 INFO 139954261391168] #quality_metric: host=algo-1, epoch=19, batch=5 train loss <loss>=6.45005186398824\u001b[0m\n",
      "\u001b[34m[04/04/2024 15:41:52 INFO 139954261391168] Epoch[19] Batch [5]#011Speed: 627.34 samples/sec#011loss=6.450052\u001b[0m\n",
      "\u001b[34m[04/04/2024 15:41:53 INFO 139954261391168] Epoch[19] Batch[10] avg_epoch_loss=6.435719\u001b[0m\n",
      "\u001b[34m[04/04/2024 15:41:53 INFO 139954261391168] #quality_metric: host=algo-1, epoch=19, batch=10 train loss <loss>=6.418519401550293\u001b[0m\n",
      "\u001b[34m[04/04/2024 15:41:53 INFO 139954261391168] Epoch[19] Batch [10]#011Speed: 600.96 samples/sec#011loss=6.418519\u001b[0m\n",
      "\u001b[34m[04/04/2024 15:41:53 INFO 139954261391168] processed a total of 1343 examples\u001b[0m\n",
      "\u001b[34m#metrics {\"StartTime\": 1712245310.5801752, \"EndTime\": 1712245313.2193615, \"Dimensions\": {\"Algorithm\": \"AWS/DeepAR\", \"Host\": \"algo-1\", \"Operation\": \"training\"}, \"Metrics\": {\"update.time\": {\"sum\": 2638.723850250244, \"count\": 1, \"min\": 2638.723850250244, \"max\": 2638.723850250244}}}\u001b[0m\n",
      "\u001b[34m[04/04/2024 15:41:53 INFO 139954261391168] #throughput_metric: host=algo-1, train throughput=508.9369017476576 records/second\u001b[0m\n",
      "\u001b[34m[04/04/2024 15:41:53 INFO 139954261391168] #progress_metric: host=algo-1, completed 100.0 % of epochs\u001b[0m\n",
      "\u001b[34m[04/04/2024 15:41:53 INFO 139954261391168] #quality_metric: host=algo-1, epoch=19, train loss <loss>=6.435718926516446\u001b[0m\n",
      "\u001b[34m[04/04/2024 15:41:53 INFO 139954261391168] best epoch loss so far\u001b[0m\n",
      "\u001b[34m[04/04/2024 15:41:53 INFO 139954261391168] Saved checkpoint to \"/opt/ml/model/state_159b4b0d-c6ff-4e0a-9b08-ad92240d111b-0000.params\"\u001b[0m\n",
      "\u001b[34m#metrics {\"StartTime\": 1712245313.2194352, \"EndTime\": 1712245313.2357142, \"Dimensions\": {\"Algorithm\": \"AWS/DeepAR\", \"Host\": \"algo-1\", \"Operation\": \"training\"}, \"Metrics\": {\"state.serialize.time\": {\"sum\": 15.808582305908203, \"count\": 1, \"min\": 15.808582305908203, \"max\": 15.808582305908203}}}\u001b[0m\n",
      "\u001b[34m[04/04/2024 15:41:53 INFO 139954261391168] Final loss: 6.435718926516446 (occurred at epoch 19)\u001b[0m\n",
      "\u001b[34m[04/04/2024 15:41:53 INFO 139954261391168] #quality_metric: host=algo-1, train final_loss <loss>=6.435718926516446\u001b[0m\n",
      "\u001b[34m[04/04/2024 15:41:53 INFO 139954261391168] Worker algo-1 finished training.\u001b[0m\n",
      "\u001b[34m[04/04/2024 15:41:53 WARNING 139954261391168] wait_for_all_workers will not sync workers since the kv store is not running distributed\u001b[0m\n",
      "\u001b[34m[04/04/2024 15:41:53 INFO 139954261391168] All workers finished. Serializing model for prediction.\u001b[0m\n",
      "\u001b[34m#metrics {\"StartTime\": 1712245313.2357824, \"EndTime\": 1712245313.3471644, \"Dimensions\": {\"Algorithm\": \"AWS/DeepAR\", \"Host\": \"algo-1\", \"Operation\": \"training\"}, \"Metrics\": {\"get_graph.time\": {\"sum\": 110.86606979370117, \"count\": 1, \"min\": 110.86606979370117, \"max\": 110.86606979370117}}}\u001b[0m\n",
      "\u001b[34m[04/04/2024 15:41:53 INFO 139954261391168] Number of GPUs being used: 0\u001b[0m\n",
      "\u001b[34m#metrics {\"StartTime\": 1712245313.347236, \"EndTime\": 1712245313.3899937, \"Dimensions\": {\"Algorithm\": \"AWS/DeepAR\", \"Host\": \"algo-1\", \"Operation\": \"training\"}, \"Metrics\": {\"finalize.time\": {\"sum\": 153.74231338500977, \"count\": 1, \"min\": 153.74231338500977, \"max\": 153.74231338500977}}}\u001b[0m\n",
      "\u001b[34m[04/04/2024 15:41:53 INFO 139954261391168] Serializing to /opt/ml/model/model_algo-1\u001b[0m\n",
      "\u001b[34m[04/04/2024 15:41:53 INFO 139954261391168] Saved checkpoint to \"/opt/ml/model/model_algo-1-0000.params\"\u001b[0m\n",
      "\u001b[34m#metrics {\"StartTime\": 1712245313.3900647, \"EndTime\": 1712245313.3971138, \"Dimensions\": {\"Algorithm\": \"AWS/DeepAR\", \"Host\": \"algo-1\", \"Operation\": \"training\"}, \"Metrics\": {\"model.serialize.time\": {\"sum\": 7.007122039794922, \"count\": 1, \"min\": 7.007122039794922, \"max\": 7.007122039794922}}}\u001b[0m\n",
      "\u001b[34m[04/04/2024 15:41:53 INFO 139954261391168] Successfully serialized the model for prediction.\u001b[0m\n",
      "\u001b[34m[04/04/2024 15:41:53 INFO 139954261391168] #memory_usage::<batchbuffer> = 15.673828125 mb\u001b[0m\n",
      "\u001b[34m[04/04/2024 15:41:53 INFO 139954261391168] Evaluating model accuracy on testset using 100 samples\u001b[0m\n",
      "\u001b[34m#metrics {\"StartTime\": 1712245313.397166, \"EndTime\": 1712245313.4030077, \"Dimensions\": {\"Algorithm\": \"AWS/DeepAR\", \"Host\": \"algo-1\", \"Operation\": \"training\"}, \"Metrics\": {\"model.bind.time\": {\"sum\": 0.04649162292480469, \"count\": 1, \"min\": 0.04649162292480469, \"max\": 0.04649162292480469}}}\u001b[0m\n",
      "\u001b[34m#metrics {\"StartTime\": 1712245313.4030747, \"EndTime\": 1712245314.0575738, \"Dimensions\": {\"Algorithm\": \"AWS/DeepAR\", \"Host\": \"algo-1\", \"Operation\": \"training\"}, \"Metrics\": {\"model.score.time\": {\"sum\": 654.6130180358887, \"count\": 1, \"min\": 654.6130180358887, \"max\": 654.6130180358887}}}\u001b[0m\n",
      "\u001b[34m[04/04/2024 15:41:54 INFO 139954261391168] #test_score (algo-1, RMSE): 205.2647354202442\u001b[0m\n",
      "\u001b[34m[04/04/2024 15:41:54 INFO 139954261391168] #test_score (algo-1, mean_absolute_QuantileLoss): 959.9155951605903\u001b[0m\n",
      "\u001b[34m[04/04/2024 15:41:54 INFO 139954261391168] #test_score (algo-1, mean_wQuantileLoss): 0.17237385875959566\u001b[0m\n",
      "\u001b[34m[04/04/2024 15:41:54 INFO 139954261391168] #test_score (algo-1, wQuantileLoss[0.1]): 0.09078455117066757\u001b[0m\n",
      "\u001b[34m[04/04/2024 15:41:54 INFO 139954261391168] #test_score (algo-1, wQuantileLoss[0.2]): 0.14551622008534398\u001b[0m\n",
      "\u001b[34m[04/04/2024 15:41:54 INFO 139954261391168] #test_score (algo-1, wQuantileLoss[0.3]): 0.1882358786830541\u001b[0m\n",
      "\u001b[34m[04/04/2024 15:41:54 INFO 139954261391168] #test_score (algo-1, wQuantileLoss[0.4]): 0.22351389135006233\u001b[0m\n",
      "\u001b[34m[04/04/2024 15:41:54 INFO 139954261391168] #test_score (algo-1, wQuantileLoss[0.5]): 0.23651484037172435\u001b[0m\n",
      "\u001b[34m[04/04/2024 15:41:54 INFO 139954261391168] #test_score (algo-1, wQuantileLoss[0.6]): 0.23060218925141227\u001b[0m\n",
      "\u001b[34m[04/04/2024 15:41:54 INFO 139954261391168] #test_score (algo-1, wQuantileLoss[0.7]): 0.20976773980453842\u001b[0m\n",
      "\u001b[34m[04/04/2024 15:41:54 INFO 139954261391168] #test_score (algo-1, wQuantileLoss[0.8]): 0.14896221826700326\u001b[0m\n",
      "\u001b[34m[04/04/2024 15:41:54 INFO 139954261391168] #test_score (algo-1, wQuantileLoss[0.9]): 0.07746719985255464\u001b[0m\n",
      "\u001b[34m[04/04/2024 15:41:54 INFO 139954261391168] #quality_metric: host=algo-1, test RMSE <loss>=205.2647354202442\u001b[0m\n",
      "\u001b[34m[04/04/2024 15:41:54 INFO 139954261391168] #quality_metric: host=algo-1, test mean_wQuantileLoss <loss>=0.17237385875959566\u001b[0m\n",
      "\u001b[34m#metrics {\"StartTime\": 1712245314.0576546, \"EndTime\": 1712245314.0740407, \"Dimensions\": {\"Algorithm\": \"AWS/DeepAR\", \"Host\": \"algo-1\", \"Operation\": \"training\"}, \"Metrics\": {\"setuptime\": {\"sum\": 4.937171936035156, \"count\": 1, \"min\": 4.937171936035156, \"max\": 4.937171936035156}, \"totaltime\": {\"sum\": 54503.71050834656, \"count\": 1, \"min\": 54503.71050834656, \"max\": 54503.71050834656}}}\u001b[0m\n",
      "\n",
      "2024-04-04 15:42:18 Uploading - Uploading generated training model\n",
      "2024-04-04 15:42:18 Completed - Training job completed\n",
      "Training seconds: 328\n",
      "Billable seconds: 328\n"
     ]
    }
   ],
   "source": [
    "# Define data channels for training the DeepAR estimator, mapping 'train' and 'test' keys to the S3 URIs of the training and test data\n",
    "data_channels = {\n",
    "    'train': train_uri,\n",
    "    'test': test_uri\n",
    "}\n",
    "\n",
    "# Fit the DeepAR estimator using the specified data channels\n",
    "deepar_estimator.fit(inputs=data_channels)"
   ]
  },
  {
   "cell_type": "markdown",
   "id": "a844dfe7-550f-4b9f-b450-b4128f259f38",
   "metadata": {},
   "source": [
    "# Model Deployment to SageMaker Endpoint"
   ]
  },
  {
   "cell_type": "code",
   "execution_count": 19,
   "id": "2bdb8b04-6a31-45cb-a60e-c304619c0d48",
   "metadata": {
    "tags": []
   },
   "outputs": [],
   "source": [
    "# Specify the endpoint name\n",
    "endpoint_name = 'bakery-sales-endpoint-basic'\n",
    "\n",
    "# Specify the endpoint configuration name\n",
    "endpoint_config_name = 'bakery-sales-endpoint-basic'\n",
    "\n",
    "# Create a SageMaker client\n",
    "sagemaker_client = boto3.client('sagemaker')"
   ]
  },
  {
   "cell_type": "code",
   "execution_count": 20,
   "id": "e1473723-981e-4e23-add6-4226bbae076c",
   "metadata": {
    "tags": []
   },
   "outputs": [
    {
     "name": "stdout",
     "output_type": "stream",
     "text": [
      "Endpoint configuration \"bakery-sales-endpoint-basic\" already exists. Deleting...\n",
      "Endpoint configuration \"bakery-sales-endpoint-basic\" deleted.\n"
     ]
    }
   ],
   "source": [
    "# Check if the endpoint configuration already exists\n",
    "try:\n",
    "    sagemaker_client.describe_endpoint_config(EndpointConfigName=endpoint_config_name)\n",
    "    print(f'Endpoint configuration \"{endpoint_config_name}\" already exists. Deleting...')\n",
    "    sagemaker_client.delete_endpoint_config(EndpointConfigName=endpoint_config_name)\n",
    "    print(f'Endpoint configuration \"{endpoint_config_name}\" deleted.')\n",
    "except ClientError as e:\n",
    "    if e.response['Error']['Code'] == 'ValidationException':\n",
    "        print(f'Endpoint configuration \"{endpoint_config_name}\" does not exist.')"
   ]
  },
  {
   "cell_type": "code",
   "execution_count": 21,
   "id": "5890352a-c47a-4d33-89b5-22db299c5f78",
   "metadata": {
    "tags": []
   },
   "outputs": [
    {
     "name": "stdout",
     "output_type": "stream",
     "text": [
      "Endpoint \"bakery-sales-endpoint-basic\" already exists. Deleting...\n",
      "Endpoint \"bakery-sales-endpoint-basic\" deleted.\n"
     ]
    }
   ],
   "source": [
    "# Check if the endpoint already exists\n",
    "try:\n",
    "    sagemaker_client.describe_endpoint(EndpointName=endpoint_name)\n",
    "    print(f'Endpoint \"{endpoint_name}\" already exists. Deleting...')\n",
    "    sagemaker_client.delete_endpoint(EndpointName=endpoint_name)\n",
    "    print(f'Endpoint \"{endpoint_name}\" deleted.')\n",
    "except ClientError as e:\n",
    "    if e.response['Error']['Code'] == 'ValidationException':\n",
    "        print(f'Endpoint \"{endpoint_name}\" does not exist.')\n",
    "    else:\n",
    "        raise"
   ]
  },
  {
   "cell_type": "code",
   "execution_count": null,
   "id": "f186f760-c3f4-4136-ad10-d1bf2ef0c075",
   "metadata": {
    "tags": []
   },
   "outputs": [
    {
     "name": "stderr",
     "output_type": "stream",
     "text": [
      "INFO:sagemaker:Creating model with name: onlineretail-deepar-forecasting-2024-04-04-15-45-28-137\n",
      "INFO:sagemaker:Creating endpoint-config with name bakery-sales-endpoint-basic\n",
      "INFO:sagemaker:Creating endpoint with name bakery-sales-endpoint-basic\n"
     ]
    },
    {
     "name": "stdout",
     "output_type": "stream",
     "text": [
      "----"
     ]
    }
   ],
   "source": [
    "# Deploy the trained model to an endpoint\n",
    "predictor = deepar_estimator.deploy(\n",
    "    initial_instance_count=1,  # Specify the initial number of instances for the endpoint\n",
    "    instance_type='ml.m5.large',  # Specify the instance type for the endpoint\n",
    "    serializer=sagemaker.serializers.JSONSerializer(),  # Specify the serializer for the input data\n",
    "    deserializer=sagemaker.deserializers.JSONDeserializer(),  # Specify the deserializer for the output data\n",
    "    endpoint_name=endpoint_name,  # Specify the name of the endpoint\n",
    ")\n",
    "\n",
    "# Print the endpoint name and endpoint configuration name\n",
    "print(f'Endpoint name: {predictor.endpoint_name}')\n",
    "print(f'Endpoint configuration name: {endpoint_config_name}')"
   ]
  },
  {
   "cell_type": "markdown",
   "id": "ff1272ef-5c48-433a-a3c3-99e047101a12",
   "metadata": {},
   "source": [
    "# Preparing Prediction Input for DeepAR Model"
   ]
  },
  {
   "cell_type": "code",
   "execution_count": null,
   "id": "f4bb8a66-4471-44c6-ba8e-f1771fcf8f74",
   "metadata": {
    "tags": []
   },
   "outputs": [],
   "source": [
    "import json\n",
    "import boto3\n",
    "import pandas as pd\n",
    "\n",
    "# Define the endpoint name\n",
    "endpoint_name = 'bakery-sales-endpoint-basic'\n",
    "\n",
    "# Set the prediction length and start date\n",
    "prediction_length = 200\n",
    "prediction_start_date = pd.Timestamp('2022-02-05')\n",
    "\n",
    "# Assuming 'daily_sales' is already defined and 'date' column is in datetime format\n",
    "\n",
    "# Prepare the prediction input without categorical or dynamic features\n",
    "prediction_input = {\n",
    "    \"instances\": [{\n",
    "        \"start\": str(daily_sales['date'].min()),\n",
    "        \"target\": daily_sales['sales'].tolist() + [0] * prediction_length\n",
    "    }],\n",
    "    \"configuration\": {\"num_samples\": 250, \"output_types\": [\"mean\", \"quantiles\"], \"quantiles\": [\"0.1\", \"0.9\"]}\n",
    "}\n",
    "\n",
    "# Invoke the endpoint for prediction\n",
    "sagemaker_runtime = boto3.client('sagemaker-runtime')\n",
    "response = sagemaker_runtime.invoke_endpoint(\n",
    "    EndpointName=endpoint_name,\n",
    "    ContentType='application/json',\n",
    "    Body=json.dumps(prediction_input)\n",
    ")\n",
    "\n",
    "# Parse the prediction response\n",
    "predictions = json.loads(response['Body'].read().decode())\n",
    "\n",
    "# Check if the prediction lengths match the expected length\n",
    "if (len(predictions['predictions'][0]['mean']) == prediction_length and\n",
    "    len(predictions['predictions'][0]['quantiles']['0.1']) == prediction_length and\n",
    "    len(predictions['predictions'][0]['quantiles']['0.9']) == prediction_length):\n",
    "\n",
    "    predicted_means = predictions['predictions'][0]['mean']\n",
    "    predicted_quantiles = predictions['predictions'][0]['quantiles']\n",
    "    predicted_lower_quantile = predicted_quantiles['0.1']\n",
    "    predicted_upper_quantile = predicted_quantiles['0.9']\n",
    "\n",
    "    # Create a DataFrame for the predicted sales\n",
    "    predicted_dates = pd.date_range(start=prediction_start_date, periods=prediction_length, freq='D')\n",
    "    predicted_sales = pd.DataFrame({\n",
    "        'Date': predicted_dates,\n",
    "        'Predicted Sales': predicted_means,\n",
    "        'Lower Quantile': predicted_lower_quantile,\n",
    "        'Upper Quantile': predicted_upper_quantile\n",
    "    })\n",
    "\n",
    "    # Display the predicted sales\n",
    "    print(predicted_sales)\n"
   ]
  },
  {
   "cell_type": "code",
   "execution_count": null,
   "id": "6aa6f4bc-1da0-45d8-ba95-aec6f4c82a3b",
   "metadata": {
    "tags": []
   },
   "outputs": [],
   "source": [
    "# Convert 'date' to datetime type\n",
    "daily_sales['date'] = pd.to_datetime(daily_sales['date'])\n",
    "\n",
    "# Calculate the max date in your dataset for verification\n",
    "max_date = daily_sales['date'].max()\n",
    "print(\"Max date in the dataset:\", max_date)\n",
    "\n",
    "# Calculate the start date for the last 270 days\n",
    "start_date_last_200 = max_date - pd.Timedelta(days=200)\n",
    "print(\"Start date for the last 200 days:\", start_date_last_200)\n",
    "\n",
    "# Filter the historical data to include only the last 200 days\n",
    "last_20_days_sales = daily_sales[daily_sales['date'] >= start_date_last_200]\n",
    "\n",
    "# Verify the filtering by checking the min date after filtering\n",
    "print(\"Min date after filtering for the last 250 days:\", last_200_days_sales['date'].min())\n",
    "\n",
    "# Now plot the daily sales for the last 30 days\n",
    "plt.figure(figsize=(16, 6))\n",
    "plt.plot(last_200_days_sales['date'], last_200_days_sales['sales'], marker='o', linestyle='-', label='Historical Sales')\n",
    "\n",
    "# Plot the predicted mean sales\n",
    "plt.plot(predicted_dates, predicted_means, label='Predicted Mean Sales')\n",
    "\n",
    "# Plot the predicted quantiles as a shaded area\n",
    "plt.fill_between(predicted_dates, predicted_lower_quantile, predicted_upper_quantile, color='gray', alpha=0.5, label='Predicted 80% Confidence Interval')\n",
    "\n",
    "# Add labels and title\n",
    "plt.title('Daily Sales with Prediction for the Next 250 Days')\n",
    "plt.xlabel('date')\n",
    "plt.ylabel('sales')\n",
    "plt.xticks(rotation=45)\n",
    "plt.legend()\n",
    "plt.grid(True)\n",
    "\n",
    "# Show the plot\n",
    "plt.show()\n"
   ]
  },
  {
   "cell_type": "markdown",
   "id": "086800c4-475f-4f6c-97f2-6cf6cc34dd1b",
   "metadata": {},
   "source": [
    "# Delete the Endpoint and Endpoint Config"
   ]
  },
  {
   "cell_type": "code",
   "execution_count": null,
   "id": "3ae53cba-5967-4efe-aa07-d36aa93af409",
   "metadata": {
    "tags": []
   },
   "outputs": [],
   "source": [
    "# Prompt for confirmation before deleting the endpoint and endpoint configuration\n",
    "confirmation = input(\"Are you sure you want to delete the endpoint and endpoint configuration? (yes/no): \")\n",
    "\n",
    "if confirmation.lower() == 'yes':\n",
    "    # Check if the endpoint configuration already exists\n",
    "    try:\n",
    "        sagemaker_client.describe_endpoint_config(EndpointConfigName=endpoint_config_name)\n",
    "        print(f'Endpoint configuration \"{endpoint_config_name}\" already exists. Deleting...')\n",
    "        sagemaker_client.delete_endpoint_config(EndpointConfigName=endpoint_config_name)\n",
    "        print(f'Endpoint configuration \"{endpoint_config_name}\" deleted.')\n",
    "    except ClientError as e:\n",
    "        if e.response['Error']['Code'] == 'ValidationException':\n",
    "            print(f'Endpoint configuration \"{endpoint_config_name}\" does not exist.')\n",
    "        else:\n",
    "            raise\n",
    "\n",
    "    # Check if the endpoint already exists\n",
    "    try:\n",
    "        sagemaker_client.describe_endpoint(EndpointName=endpoint_name)\n",
    "        print(f'Endpoint \"{endpoint_name}\" already exists. Deleting...')\n",
    "        sagemaker_client.delete_endpoint(EndpointName=endpoint_name)\n",
    "        print(f'Endpoint \"{endpoint_name}\" deleted.')\n",
    "    except ClientError as e:\n",
    "        if e.response['Error']['Code'] == 'ValidationException':\n",
    "            print(f'Endpoint \"{endpoint_name}\" does not exist.')\n",
    "        else:\n",
    "            raise\n",
    "else:\n",
    "    print(\"Deletion cancelled.\")"
   ]
  },
  {
   "cell_type": "code",
   "execution_count": null,
   "id": "e54a5ce2-926f-40eb-a14d-1ff6e395f87f",
   "metadata": {},
   "outputs": [],
   "source": []
  },
  {
   "cell_type": "markdown",
   "id": "35b46f10-bde3-44b7-ab58-3f7e128d4a9f",
   "metadata": {},
   "source": [
    "# Part 3: Advanced Business Concepts"
   ]
  },
  {
   "cell_type": "markdown",
   "id": "744eee26-e1a3-423b-aa36-a0c19da20b4b",
   "metadata": {},
   "source": [
    "## Cost-Benefit Analysis"
   ]
  },
  {
   "cell_type": "markdown",
   "id": "fc128b46-770e-4864-8953-6010bbf7cf14",
   "metadata": {},
   "source": [
    "## Change Management Plan\n",
    "### Stakeholder Engagement\n",
    "\n",
    "#### Stakeholder Identification:\n",
    "##### 1.Management Team: \n",
    "- Oversees the implementation of DeepAR algorithm and expects improvements space in sales forecasting accuracy and operational efficiency. \n",
    "- Detailed comprehension on DeepAR’s contribution to business outcomes and growth is required. \n",
    "\n",
    "##### 2.IT Support Team:\n",
    "- Team member is responsible for integrating DeepAR into existing data infrastructure.\n",
    "- Technical skills and knowledge of AWS DeepAR and how to build time-series model is needed for integration to the exist business process. \n",
    "##### 3.Marketing Team:\n",
    "- Marketing team need to understand how time-series analytics impacts the customer segmentation and marketing campaign’s effectiveness. \n",
    "- Take advantage of DeepAR’s outputs and insights for targeted marketing campaigns. \n",
    "##### 4.Salesforce:\n",
    "- Relies on accurate sales forecasts generated by DeepAR model for tailored customer interactions in order to enhance customer satisfaction and experience.\n",
    "- Need finishing training programs on interpreting DeepAR outputs and incomes to enhance sales strategies. \n",
    "##### 5.Frontline Employees/ Staff:\n",
    "- Gain the intuition on how DeepAR insights afftect product promotions and inventory management.\n",
    "- Training sessions is required on interpreting sales forecasts and applying these insights into daily in-house operations. \n",
    "\n",
    "#### Communication strategies with Timeline:\n",
    "##### Phase 1: (2 months before the solution rollout)\n",
    "###### CRAVE-wide announcement: \n",
    "- Introduction to DeepAR’s objectives and anticipated impact on sales forecasting as well as on inventory and staffing management.\n",
    "- A webinar held by CRAVE’s executive, who highlights the benefits of the integration of new technical tools and timeline.\n",
    "##### Phase 2: (1 months before the solution rollout)\n",
    "###### Informational sessions: \n",
    "- Comprehensive and detailed workshops on time-series and DeepAR’s basic functionality will be held for each department. (Marketing, frontline)\n",
    "- Hands-on training for IT staff on AWS DeepAR integration and predictive model deployment. \n",
    "##### Phase 3: (After the completion of informational sessions)\n",
    "###### Q&A Forums: \n",
    "- Forums primarily focus on addressing any concerns regarding the feasibility of the solution and clarifying technical aspects of DeepAR. \n",
    "- Open online sessions and forums that tailored to each stakeholder group’s needs so that they can communicate their thoughts internally with an easier access to. \n",
    "##### Phase 4: (Lead up to rollout)\n",
    "###### Rollout preparation: \n",
    "- Set quantitively expectations on level of sales forecasting accuracy and operational efficiency and relevant business-side returns. \n",
    "- Trainers will provide training materials and offer resources for ongoing support and development post rollout stage. \n",
    "##### Phase 5: (Post rollout engagement and ongoing support)\n",
    "###### Feedback gathering: \n",
    "- Establish feedback mechanism for ongoing assessment and feedback gathering on DeepAR’s performance and its financial benefits on business.\n",
    "- Hold regular check-ins with involved stakeholders to address any rising issues and optimize the usage and return of the technical tool. \n",
    "\n",
    "###### Technical support: \n",
    "- Offer additional training sessions for advanced features of DeepAR for those who interest in exploration and optimizing techniques. \n",
    "- Provide ongoing technical assistance for DeepAR troubleshooting and implementation. \n",
    "\n",
    "###### Review and Iteration: \n",
    "- Schedule regular meetings to review DeepAR's effectiveness and explore opportunities for refinement.\n",
    "- Collaborate with stakeholders to identify areas for improvement and plan for future enhancements.\n",
    "\n",
    "\n",
    "### Training for Employees: \n",
    "•\tTraining programs:\n",
    "\n",
    "The training program aims to empower CRAVE Coffee House & Bakery with the necessary skills to leverage the AWS DeepAR tool effectively, therefore enhances its competitiveness within the Kingston coffee and food industry. By equipping internal staff with advanced data analytics capabilities regarding sales volume predictions, the program will foster informed decision-making and strategic marketing planning. There are hands-on case studies, sessions, and collaborative workshops with the DeepAR Analytics group, where CRAVE employees will gain valuable insights and expertise in utilizing the tool for sales forecasting and optimization. Besides, the establishment of the feedback mechanism will ensure a continuous improvement and skill refinement and facilitate the innovative business culture within CRAVE. Ultimately, the training program will enable CRAVE to drive sustainable business growth and maintain its leading position in the market. \n",
    "\n",
    "\n",
    "\n",
    "\n",
    "#### Week 1: AWS DeepAR Introduction Session\n",
    "Objectives: Familiarize CRAVE’s employees with the AWS DeepAR and its operating mechanisms, provides employees with technical knowledge necessary for navigating and utilizing SageMaker effectively. \n",
    "\n",
    "Activities and programs: \n",
    "\n",
    "•\tIntroductory presentation (Day 1): The training week will commence with an introductory presentation by AWS DeepAR team member, tailored to CRAVE’s business needs by covering fundamental concepts of AWS and its relevance to sales forecasting and inventory levels. \n",
    "\n",
    "•\tHands-on sessions (Day 2-7): Following the presentation, employees will participate in hands-on sessions aimed at practical learning within the context of CRAVE's operations. Employees will learn how to create and configure machine learning models using DeepAR, with a specific focus on data preprocessing, model training, and evaluation for predictive analytics tasks.\n",
    "\n",
    "•\tThe Q&A and documentation:  A Q&A document will be distributed to all the employees who participate in the training program, which provides a platform for tackling any questions or clarifications related to DeepAR and its application.\n",
    "\n",
    "Materials: AWS DeepAR user guides, Slide decks containing instructional content and visual aids customized to display DeepAR’s capabilities in the context of sales forecasting and inventory management, and sandbox environments for employees to explore and experiment with AWS functionalities hands-on. \n",
    "\n",
    "\n",
    "#### Week 2: Data Analysis and Interpretation: \n",
    "Objectives: Enable employees to to analyze and interpret data obtained from running predictive analytics models, and boost employees’ proficiency in comprehending model outputs and deriving actionable insights for inventory planning and marketing campaigns. \n",
    "\n",
    "Activities and Programs:\n",
    "\n",
    "•\tData exploration workshops (Day 8-10): Conducing interactive workshops to familiarize employees with data exploration techniques with corresponding methodologies. Facilitating sessions on understanding and interpreting outputs (graphs) generated by AWS SeepAR’ models with reviewing key performance metrics, forecasting results, and implications. \n",
    "\n",
    "•\tGroup exercises and competitions (Day 11-14): Organizing group practice to reinforce employees’ interpretation skills for analyzing sample model outputs and identify insights regarding CRAVE’s business value and objectives. Offering supplementary resources and materials for further self-study and skill development. \n",
    "\n",
    "Materials: Training presentations on data analysis techniques and time-series model interpretation, sample datasets (CSV file) containing CRAVE’s historical sales data categorized by time, customer demographics, case studies illustrating successful application of DeepAR model in inventory and staffing allocation and marketing. \n",
    "\n",
    "\n",
    "#### Week 3: Practical Application\n",
    "Objectives: Applying the theoretical knowledge and technical skills to real-world applications and familiarize employees with practical application of analytical tools and models in the business context.  \n",
    "\n",
    "Activities and Programs:\n",
    "\n",
    "•\tReal-word case studies review (Day 15-18): Analyzing case studies illustrates the application of analytical tools and models in solving business issues similar with CRAVE’s inefficiency of sales volume forecasting and staffing allocations; and encouraging group discussions to identify key insights. \n",
    "\n",
    "•\tRole-playing exercise for decision-making (Day 19-20): Assigning roles to each group (each group have 2-3 members) members for exercising simulating decision-making scenarios where employees will apply time series intuition to make strategic decisions regarding marketing strategies and address the challenges. \n",
    "\n",
    "•\tPeer reviews and Application Discussions (Day 21): Conducing peer review of the deliverables, where allows trainee to provide constructive feedbacks to their peers on their works. Encouraging trainees to share their group’s insights and observations to the rest of the trainees. \n",
    "\n",
    " Materials: Feedback forms, scenario briefs outlining decision-making, printouts of case studies for reviewing during the sessions. \n",
    "\n",
    "\n",
    "\n",
    "#### Week 4: Consolidation and Advanced Learning\n",
    "Objectives: Reinforce skills in sales forecast data and develop proficiency in applying insights to inventory planning and marketing campaigns. \n",
    "\n",
    "Activities and Programs:\n",
    "•\tHolding detailed training sessions on interpreting sales forecast data generated by DeepAR.\n",
    "\n",
    "•\tCase study analysis for inventory planning. Guide trainees through the process of analyzing forecasts data to determine the optimal inventory levels for different categories of products/ materials/ ingredients in CRAVE.\n",
    "\n",
    "•\tIntroducing scenario-based exercise for marketing campaigns optimization. Engage trainees in scenario-based exercises, which focuses on optimizing marketing campaigns by utilizing the insights gained from sales forecast model. \n",
    "\n",
    "•\tDeepAR analytics provide additional assistance for 10 days post-consolidation with CRAVE trainers. \n",
    "\n",
    "Materials:  Detailed user manuals regarding sales forecasting interpretation techniques, case study and scenario-based exercises, interactive tools and templates.\n",
    "\n"
   ]
  },
  {
   "cell_type": "code",
   "execution_count": null,
   "id": "4d1e56c3-980e-463e-b040-c7a6d58fd86c",
   "metadata": {},
   "outputs": [],
   "source": []
  }
 ],
 "metadata": {
  "kernelspec": {
   "display_name": "conda_python3",
   "language": "python",
   "name": "conda_python3"
  },
  "language_info": {
   "codemirror_mode": {
    "name": "ipython",
    "version": 3
   },
   "file_extension": ".py",
   "mimetype": "text/x-python",
   "name": "python",
   "nbconvert_exporter": "python",
   "pygments_lexer": "ipython3",
   "version": "3.10.13"
  }
 },
 "nbformat": 4,
 "nbformat_minor": 5
}
